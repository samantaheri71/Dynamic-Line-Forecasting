{
  "nbformat": 4,
  "nbformat_minor": 0,
  "metadata": {
    "colab": {
      "provenance": [],
      "authorship_tag": "ABX9TyMMLiHTqcB3KbzXinQt469j",
      "include_colab_link": true
    },
    "kernelspec": {
      "display_name": "Python 3",
      "name": "python3"
    }
  },
  "cells": [
    {
      "cell_type": "markdown",
      "metadata": {
        "id": "view-in-github",
        "colab_type": "text"
      },
      "source": [
        "<a href=\"https://colab.research.google.com/github/samantaheri71/Dynamic-Line-Forecasting/blob/main/EMD_LSTM.ipynb\" target=\"_parent\"><img src=\"https://colab.research.google.com/assets/colab-badge.svg\" alt=\"Open In Colab\"/></a>"
      ]
    },
    {
      "cell_type": "code",
      "metadata": {
        "colab": {
          "base_uri": "https://localhost:8080/"
        },
        "id": "zgrQTKEubfzF",
        "outputId": "b8c25684-b0a0-4d64-8b04-2d144cef2a2d"
      },
      "source": [
        "%tensorflow_version 2.x\n",
        "import tensorflow as tf\n",
        "!pip install -q git+https://github.com/tensorflow/docs"
      ],
      "execution_count": null,
      "outputs": [
        {
          "output_type": "stream",
          "text": [
            "\u001b[?25l\r\u001b[K     |▎                               | 10kB 21.0MB/s eta 0:00:01\r\u001b[K     |▋                               | 20kB 25.9MB/s eta 0:00:01\r\u001b[K     |█                               | 30kB 13.0MB/s eta 0:00:01\r\u001b[K     |█▎                              | 40kB 10.0MB/s eta 0:00:01\r\u001b[K     |█▋                              | 51kB 8.4MB/s eta 0:00:01\r\u001b[K     |██                              | 61kB 8.6MB/s eta 0:00:01\r\u001b[K     |██▎                             | 71kB 8.2MB/s eta 0:00:01\r\u001b[K     |██▋                             | 81kB 8.7MB/s eta 0:00:01\r\u001b[K     |██▉                             | 92kB 8.2MB/s eta 0:00:01\r\u001b[K     |███▏                            | 102kB 7.8MB/s eta 0:00:01\r\u001b[K     |███▌                            | 112kB 7.8MB/s eta 0:00:01\r\u001b[K     |███▉                            | 122kB 7.8MB/s eta 0:00:01\r\u001b[K     |████▏                           | 133kB 7.8MB/s eta 0:00:01\r\u001b[K     |████▌                           | 143kB 7.8MB/s eta 0:00:01\r\u001b[K     |████▉                           | 153kB 7.8MB/s eta 0:00:01\r\u001b[K     |█████▏                          | 163kB 7.8MB/s eta 0:00:01\r\u001b[K     |█████▌                          | 174kB 7.8MB/s eta 0:00:01\r\u001b[K     |█████▊                          | 184kB 7.8MB/s eta 0:00:01\r\u001b[K     |██████                          | 194kB 7.8MB/s eta 0:00:01\r\u001b[K     |██████▍                         | 204kB 7.8MB/s eta 0:00:01\r\u001b[K     |██████▊                         | 215kB 7.8MB/s eta 0:00:01\r\u001b[K     |███████                         | 225kB 7.8MB/s eta 0:00:01\r\u001b[K     |███████▍                        | 235kB 7.8MB/s eta 0:00:01\r\u001b[K     |███████▊                        | 245kB 7.8MB/s eta 0:00:01\r\u001b[K     |████████                        | 256kB 7.8MB/s eta 0:00:01\r\u001b[K     |████████▍                       | 266kB 7.8MB/s eta 0:00:01\r\u001b[K     |████████▋                       | 276kB 7.8MB/s eta 0:00:01\r\u001b[K     |█████████                       | 286kB 7.8MB/s eta 0:00:01\r\u001b[K     |█████████▎                      | 296kB 7.8MB/s eta 0:00:01\r\u001b[K     |█████████▋                      | 307kB 7.8MB/s eta 0:00:01\r\u001b[K     |██████████                      | 317kB 7.8MB/s eta 0:00:01\r\u001b[K     |██████████▎                     | 327kB 7.8MB/s eta 0:00:01\r\u001b[K     |██████████▋                     | 337kB 7.8MB/s eta 0:00:01\r\u001b[K     |███████████                     | 348kB 7.8MB/s eta 0:00:01\r\u001b[K     |███████████▎                    | 358kB 7.8MB/s eta 0:00:01\r\u001b[K     |███████████▌                    | 368kB 7.8MB/s eta 0:00:01\r\u001b[K     |███████████▉                    | 378kB 7.8MB/s eta 0:00:01\r\u001b[K     |████████████▏                   | 389kB 7.8MB/s eta 0:00:01\r\u001b[K     |████████████▌                   | 399kB 7.8MB/s eta 0:00:01\r\u001b[K     |████████████▉                   | 409kB 7.8MB/s eta 0:00:01\r\u001b[K     |█████████████▏                  | 419kB 7.8MB/s eta 0:00:01\r\u001b[K     |█████████████▌                  | 430kB 7.8MB/s eta 0:00:01\r\u001b[K     |█████████████▉                  | 440kB 7.8MB/s eta 0:00:01\r\u001b[K     |██████████████▏                 | 450kB 7.8MB/s eta 0:00:01\r\u001b[K     |██████████████▍                 | 460kB 7.8MB/s eta 0:00:01\r\u001b[K     |██████████████▊                 | 471kB 7.8MB/s eta 0:00:01\r\u001b[K     |███████████████                 | 481kB 7.8MB/s eta 0:00:01\r\u001b[K     |███████████████▍                | 491kB 7.8MB/s eta 0:00:01\r\u001b[K     |███████████████▊                | 501kB 7.8MB/s eta 0:00:01\r\u001b[K     |████████████████                | 512kB 7.8MB/s eta 0:00:01\r\u001b[K     |████████████████▍               | 522kB 7.8MB/s eta 0:00:01\r\u001b[K     |████████████████▊               | 532kB 7.8MB/s eta 0:00:01\r\u001b[K     |█████████████████               | 542kB 7.8MB/s eta 0:00:01\r\u001b[K     |█████████████████▎              | 552kB 7.8MB/s eta 0:00:01\r\u001b[K     |█████████████████▋              | 563kB 7.8MB/s eta 0:00:01\r\u001b[K     |██████████████████              | 573kB 7.8MB/s eta 0:00:01\r\u001b[K     |██████████████████▎             | 583kB 7.8MB/s eta 0:00:01\r\u001b[K     |██████████████████▋             | 593kB 7.8MB/s eta 0:00:01\r\u001b[K     |███████████████████             | 604kB 7.8MB/s eta 0:00:01\r\u001b[K     |███████████████████▎            | 614kB 7.8MB/s eta 0:00:01\r\u001b[K     |███████████████████▋            | 624kB 7.8MB/s eta 0:00:01\r\u001b[K     |████████████████████            | 634kB 7.8MB/s eta 0:00:01\r\u001b[K     |████████████████████▏           | 645kB 7.8MB/s eta 0:00:01\r\u001b[K     |████████████████████▌           | 655kB 7.8MB/s eta 0:00:01\r\u001b[K     |████████████████████▉           | 665kB 7.8MB/s eta 0:00:01\r\u001b[K     |█████████████████████▏          | 675kB 7.8MB/s eta 0:00:01\r\u001b[K     |█████████████████████▌          | 686kB 7.8MB/s eta 0:00:01\r\u001b[K     |█████████████████████▉          | 696kB 7.8MB/s eta 0:00:01\r\u001b[K     |██████████████████████▏         | 706kB 7.8MB/s eta 0:00:01\r\u001b[K     |██████████████████████▌         | 716kB 7.8MB/s eta 0:00:01\r\u001b[K     |██████████████████████▉         | 727kB 7.8MB/s eta 0:00:01\r\u001b[K     |███████████████████████         | 737kB 7.8MB/s eta 0:00:01\r\u001b[K     |███████████████████████▍        | 747kB 7.8MB/s eta 0:00:01\r\u001b[K     |███████████████████████▊        | 757kB 7.8MB/s eta 0:00:01\r\u001b[K     |████████████████████████        | 768kB 7.8MB/s eta 0:00:01\r\u001b[K     |████████████████████████▍       | 778kB 7.8MB/s eta 0:00:01\r\u001b[K     |████████████████████████▊       | 788kB 7.8MB/s eta 0:00:01\r\u001b[K     |█████████████████████████       | 798kB 7.8MB/s eta 0:00:01\r\u001b[K     |█████████████████████████▍      | 808kB 7.8MB/s eta 0:00:01\r\u001b[K     |█████████████████████████▊      | 819kB 7.8MB/s eta 0:00:01\r\u001b[K     |██████████████████████████      | 829kB 7.8MB/s eta 0:00:01\r\u001b[K     |██████████████████████████▎     | 839kB 7.8MB/s eta 0:00:01\r\u001b[K     |██████████████████████████▋     | 849kB 7.8MB/s eta 0:00:01\r\u001b[K     |███████████████████████████     | 860kB 7.8MB/s eta 0:00:01\r\u001b[K     |███████████████████████████▎    | 870kB 7.8MB/s eta 0:00:01\r\u001b[K     |███████████████████████████▋    | 880kB 7.8MB/s eta 0:00:01\r\u001b[K     |████████████████████████████    | 890kB 7.8MB/s eta 0:00:01\r\u001b[K     |████████████████████████████▎   | 901kB 7.8MB/s eta 0:00:01\r\u001b[K     |████████████████████████████▋   | 911kB 7.8MB/s eta 0:00:01\r\u001b[K     |████████████████████████████▉   | 921kB 7.8MB/s eta 0:00:01\r\u001b[K     |█████████████████████████████▏  | 931kB 7.8MB/s eta 0:00:01\r\u001b[K     |█████████████████████████████▌  | 942kB 7.8MB/s eta 0:00:01\r\u001b[K     |█████████████████████████████▉  | 952kB 7.8MB/s eta 0:00:01\r\u001b[K     |██████████████████████████████▏ | 962kB 7.8MB/s eta 0:00:01\r\u001b[K     |██████████████████████████████▌ | 972kB 7.8MB/s eta 0:00:01\r\u001b[K     |██████████████████████████████▉ | 983kB 7.8MB/s eta 0:00:01\r\u001b[K     |███████████████████████████████▏| 993kB 7.8MB/s eta 0:00:01\r\u001b[K     |███████████████████████████████▌| 1.0MB 7.8MB/s eta 0:00:01\r\u001b[K     |███████████████████████████████▊| 1.0MB 7.8MB/s eta 0:00:01\r\u001b[K     |████████████████████████████████| 1.0MB 7.8MB/s \n",
            "\u001b[?25h  Building wheel for tensorflow-docs (setup.py) ... \u001b[?25l\u001b[?25hdone\n"
          ],
          "name": "stdout"
        }
      ]
    },
    {
      "cell_type": "code",
      "metadata": {
        "colab": {
          "base_uri": "https://localhost:8080/"
        },
        "id": "3ZIbMViCnxH9",
        "outputId": "233e0143-93e2-492c-94ff-29fd1c6a6952"
      },
      "source": [
        "\n",
        "%tensorflow_version 2.x\n",
        "import tensorflow as tf\n",
        "print(tf.version)\n",
        "import os\n",
        "import math\n",
        "import numpy as np\n",
        "from tensorflow import keras\n",
        "#from keras.preprocessing.sequence import TimeSeriesGenerator\n",
        "from tensorflow.keras.models import Sequential \n",
        "from tensorflow.keras.layers import Dense, LSTM, Dropout\n",
        "import warnings\n",
        "import matplotlib.pyplot as plt\n",
        "%matplotlib inline\n",
        "from statsmodels.tools.eval_measures import rmse\n",
        "from sklearn.preprocessing import MinMaxScaler\n",
        "warnings.filterwarnings(\"ignore\")\n",
        "#from Ipython.display import clear_output\n",
        "import tensorflow.compat.v2.feature_column as fc\n",
        "from tensorflow.keras.utils import plot_model\n",
        "import pandas as pd\n",
        "import seaborn as sns\n",
        "sns.set_style('white')\n",
        "\n",
        "import numpy as np\n",
        "import scipy as sp\n",
        "from scipy import signal\n",
        "import matplotlib.pyplot as plt\n",
        "\n",
        "import pandas as pd\n",
        "from sklearn.base import BaseEstimator, TransformerMixin\n",
        "from sklearn.preprocessing import StandardScaler\n",
        "from sklearn.pipeline import Pipeline\n",
        "from sklearn.model_selection import train_test_split\n",
        "\n",
        "import tensorflow.compat.v2.feature_column as fc\n",
        "from tensorflow.keras.utils import plot_model\n",
        "import tensorflow_docs as tfdocs\n",
        "import tensorflow_docs.plots\n",
        "import tensorflow_docs.modeling\n",
        "\n",
        "\n",
        "# lstm for time series forecasting\n",
        "from numpy import sqrt\n",
        "from numpy import asarray\n",
        "from pandas import read_csv\n",
        "from tensorflow.keras import Sequential\n",
        "from tensorflow.keras.layers import Dense\n",
        "from tensorflow.keras.layers import LSTM\n",
        "from keras.layers import concatenate"
      ],
      "execution_count": null,
      "outputs": [
        {
          "output_type": "stream",
          "text": [
            "<module 'tensorflow._api.v2.version' from '/usr/local/lib/python3.6/dist-packages/tensorflow/_api/v2/version/__init__.py'>\n"
          ],
          "name": "stdout"
        }
      ]
    },
    {
      "cell_type": "code",
      "metadata": {
        "colab": {
          "resources": {
            "http://localhost:8080/nbextensions/google.colab/files.js": {
              "data": "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",
              "ok": true,
              "headers": [
                [
                  "content-type",
                  "application/javascript"
                ]
              ],
              "status": 200,
              "status_text": ""
            }
          },
          "base_uri": "https://localhost:8080/",
          "height": 73
        },
        "id": "SO2CAlgRsvp-",
        "outputId": "e3c1c622-b5ba-4482-8528-2ea96d71ac68"
      },
      "source": [
        "from google.colab import files\n",
        "uploaded = files.upload() # u can now upload the datasetst"
      ],
      "execution_count": null,
      "outputs": [
        {
          "output_type": "display_data",
          "data": {
            "text/html": [
              "\n",
              "     <input type=\"file\" id=\"files-8e3dbdd7-7aa8-484e-8126-75302c6f7640\" name=\"files[]\" multiple disabled\n",
              "        style=\"border:none\" />\n",
              "     <output id=\"result-8e3dbdd7-7aa8-484e-8126-75302c6f7640\">\n",
              "      Upload widget is only available when the cell has been executed in the\n",
              "      current browser session. Please rerun this cell to enable.\n",
              "      </output>\n",
              "      <script src=\"/nbextensions/google.colab/files.js\"></script> "
            ],
            "text/plain": [
              "<IPython.core.display.HTML object>"
            ]
          },
          "metadata": {
            "tags": []
          }
        },
        {
          "output_type": "stream",
          "text": [
            "Saving DLR.csv to DLR.csv\n"
          ],
          "name": "stdout"
        }
      ]
    },
    {
      "cell_type": "code",
      "metadata": {
        "id": "o-smKQ_MxexB",
        "colab": {
          "base_uri": "https://localhost:8080/",
          "height": 359
        },
        "outputId": "59b578ef-9ee9-43fc-c57e-f1c65130c00b"
      },
      "source": [
        "import io\n",
        "from matplotlib import pyplot\n",
        "dataset=pd.read_csv(io.BytesIO(uploaded[\"DLR.csv\"]),header=0, squeeze=True) \n",
        "dataset=dataset.drop(columns=\"direction\")\n",
        "\n",
        "values = dataset.values[:73500,:]\n",
        "#specify columns to plot\n",
        "groups = [0,1,2, 3,4]\n",
        "i = 1\n",
        "#plot each column\n",
        "pyplot.figure()\n",
        "for group in groups:\n",
        "  pyplot.subplot(len(groups), 1, i)\n",
        "  pyplot.plot(values[:, group])\n",
        "  pyplot.title(dataset.columns[group], y=0.5, loc='right')\n",
        "  i += 1\n",
        "  pyplot.show()"
      ],
      "execution_count": null,
      "outputs": [
        {
          "output_type": "display_data",
          "data": {
            "image/png": "[encoded data removed]",
            "text/plain": [
              "<Figure size 432x288 with 1 Axes>"
            ]
          },
          "metadata": {
            "tags": []
          }
        },
        {
          "output_type": "display_data",
          "data": {
            "image/png": "[encoded data removed]",
            "text/plain": [
              "<Figure size 432x288 with 1 Axes>"
            ]
          },
          "metadata": {
            "tags": []
          }
        },
        {
          "output_type": "display_data",
          "data": {
            "image/png": "[encoded data removed]",
            "text/plain": [
              "<Figure size 432x288 with 1 Axes>"
            ]
          },
          "metadata": {
            "tags": []
          }
        },
        {
          "output_type": "display_data",
          "data": {
            "image/png": "[encoded data removed]",
            "text/plain": [
              "<Figure size 432x288 with 1 Axes>"
            ]
          },
          "metadata": {
            "tags": []
          }
        },
        {
          "output_type": "display_data",
          "data": {
            "image/png": "[encoded data removed]",
            "text/plain": [
              "<Figure size 432x288 with 1 Axes>"
            ]
          },
          "metadata": {
            "tags": []
          }
        }
      ]
    },
    {
      "cell_type": "code",
      "metadata": {
        "colab": {
          "base_uri": "https://localhost:8080/"
        },
        "id": "EptVTe9QDC47",
        "outputId": "eb025208-0432-44d8-9599-9ad7018b4814"
      },
      "source": [
        "# prepare data for lstm\n",
        "from pandas import read_csv\n",
        "from pandas import DataFrame\n",
        "from pandas import concat\n",
        "from sklearn.preprocessing import LabelEncoder\n",
        "from sklearn.preprocessing import MinMaxScaler\n",
        "\n",
        "# convert series to supervised learning\n",
        "def series_to_supervised(data, n_in=1, n_out=1, dropnan=True):\n",
        "\tn_vars = 1 if type(data) is list else data.shape[1]\n",
        "\tdf = DataFrame(data)\n",
        "\tcols, names = list(), list()\n",
        "\t# input sequence (t-n, ... t-1)\n",
        "\tfor i in range(n_in, 0, -1):\n",
        "\t\tcols.append(df.shift(i))\n",
        "\t\tnames += [('var%d(t-%d)' % (j+1, i)) for j in range(n_vars)]\n",
        "\t# forecast sequence (t, t+1, ... t+n)\n",
        "\tfor i in range(0, n_out):\n",
        "\t\tcols.append(df.shift(-i))\n",
        "\t\tif i == 0:\n",
        "\t\t\tnames += [('var%d(t)' % (j+1)) for j in range(n_vars)]\n",
        "\t\telse:\n",
        "\t\t\tnames += [('var%d(t+%d)' % (j+1, i)) for j in range(n_vars)]\n",
        "\t# put it all together\n",
        "\tagg = concat(cols, axis=1)\n",
        "\tagg.columns = names\n",
        "\t# drop rows with NaN values\n",
        "\tif dropnan:\n",
        "\t\tagg.dropna(inplace=True)\n",
        "\treturn agg\n",
        "\n",
        "# frame as supervised learning\n",
        "\n",
        "reframed = series_to_supervised(dataset, 10, 1)\n",
        "reframed.columns\n",
        "reframed.drop(reframed.columns[[51,52,53,54]], axis=1, inplace=True)\n",
        "reframed.columns"
      ],
      "execution_count": null,
      "outputs": [
        {
          "output_type": "execute_result",
          "data": {
            "text/plain": [
              "Index(['var1(t-10)', 'var2(t-10)', 'var3(t-10)', 'var4(t-10)', 'var5(t-10)',\n",
              "       'var1(t-9)', 'var2(t-9)', 'var3(t-9)', 'var4(t-9)', 'var5(t-9)',\n",
              "       'var1(t-8)', 'var2(t-8)', 'var3(t-8)', 'var4(t-8)', 'var5(t-8)',\n",
              "       'var1(t-7)', 'var2(t-7)', 'var3(t-7)', 'var4(t-7)', 'var5(t-7)',\n",
              "       'var1(t-6)', 'var2(t-6)', 'var3(t-6)', 'var4(t-6)', 'var5(t-6)',\n",
              "       'var1(t-5)', 'var2(t-5)', 'var3(t-5)', 'var4(t-5)', 'var5(t-5)',\n",
              "       'var1(t-4)', 'var2(t-4)', 'var3(t-4)', 'var4(t-4)', 'var5(t-4)',\n",
              "       'var1(t-3)', 'var2(t-3)', 'var3(t-3)', 'var4(t-3)', 'var5(t-3)',\n",
              "       'var1(t-2)', 'var2(t-2)', 'var3(t-2)', 'var4(t-2)', 'var5(t-2)',\n",
              "       'var1(t-1)', 'var2(t-1)', 'var3(t-1)', 'var4(t-1)', 'var5(t-1)',\n",
              "       'var1(t)'],\n",
              "      dtype='object')"
            ]
          },
          "metadata": {
            "tags": []
          },
          "execution_count": 16
        }
      ]
    },
    {
      "cell_type": "code",
      "metadata": {
        "colab": {
          "base_uri": "https://localhost:8080/"
        },
        "id": "KBp-a6xyG1TT",
        "outputId": "915d82ea-d22a-4c01-8b3e-786c59c97afc"
      },
      "source": [
        "values = reframed.values\n",
        "\n",
        "#standardization of the data\n",
        "#scaler = StandardScaler()\n",
        "scaler = MinMaxScaler(feature_range=(0, 1))\n",
        "values=scaler.fit_transform(values)\n",
        "print(values.shape)\n",
        "\n",
        "\n",
        "#split to train and test\n",
        "n_train_hours = 408 * 24* 6\n",
        "train = values[:n_train_hours, :]\n",
        "test = values[n_train_hours:, :]\n",
        "# split into input and outputs\n",
        "train_X, train_y = train[:, :-1], train[:, -1]\n",
        "test_X, test_y = test[:, :-1], test[:, -1]\n",
        "# reshape input to be 3D [samples, timesteps, features]\n",
        "train_X = train_X.reshape((train_X.shape[0], 1, train_X.shape[1]))\n",
        "test_X = test_X.reshape((test_X.shape[0], 1, test_X.shape[1]))\n",
        "print(train_X.shape, train_y.shape, test_X.shape, test_y.shape)\n"
      ],
      "execution_count": null,
      "outputs": [
        {
          "output_type": "stream",
          "text": [
            "(73490, 51)\n",
            "(58752, 1, 50) (58752,) (14738, 1, 50) (14738,)\n"
          ],
          "name": "stdout"
        }
      ]
    },
    {
      "cell_type": "code",
      "metadata": {
        "colab": {
          "base_uri": "https://localhost:8080/",
          "height": 553
        },
        "id": "zyPpigkT6B5t",
        "outputId": "5e6de529-52f8-41d5-89d4-503a3d3ed889"
      },
      "source": [
        "lstm = tf.keras.layers.LSTM(                                                       units=60,  #\tPositive integer, dimensionality of the output space.\n",
        "                            activation='tanh', recurrent_activation='sigmoid', use_bias=False,  #  Activation functions to use. \n",
        "                                                                                 dropout=0.1,  #Float between 0 and 1. Fraction of the units to drop for the linear transformation of the inputs.\n",
        "                                                                      return_sequences=True,)  #Boolean. Whether to return the last output. in the output sequence, or the full sequence.\n",
        "                                                                      \n",
        "mlp1 = tf.keras.layers.Dense(100, activation=\"sigmoid\")\n",
        "mlp2 = tf.keras.layers.Dense(1, activation=\"sigmoid\")\n",
        "\n",
        "\n",
        "inputs = keras.Input(shape=(train_X.shape[1], train_X.shape[2]))\n",
        "x0=lstm(inputs)\n",
        "x1=mlp2(x0)\n",
        "DRNN_model = keras.Model(inputs=inputs, outputs=x1, name=\"DRNN\")\n",
        "DRNN_model.summary()\n",
        "plot_model(DRNN_model, to_file=\"DRNN_model.png\", show_shapes=True)"
      ],
      "execution_count": null,
      "outputs": [
        {
          "output_type": "stream",
          "text": [
            "Model: \"DRNN\"\n",
            "_________________________________________________________________\n",
            "Layer (type)                 Output Shape              Param #   \n",
            "=================================================================\n",
            "input_7 (InputLayer)         [(None, 1, 50)]           0         \n",
            "_________________________________________________________________\n",
            "lstm_6 (LSTM)                (None, 1, 60)             26400     \n",
            "_________________________________________________________________\n",
            "dense_13 (Dense)             (None, 1, 1)              61        \n",
            "=================================================================\n",
            "Total params: 26,461\n",
            "Trainable params: 26,461\n",
            "Non-trainable params: 0\n",
            "_________________________________________________________________\n"
          ],
          "name": "stdout"
        },
        {
          "output_type": "execute_result",
          "data": {
            "image/png": "[encoded data removed]",
            "text/plain": [
              "<IPython.core.display.Image object>"
            ]
          },
          "metadata": {
            "tags": []
          },
          "execution_count": 61
        }
      ]
    },
    {
      "cell_type": "code",
      "metadata": {
        "id": "Y266zLRj-Ns8"
      },
      "source": [
        "rmse = tf.keras.metrics.RootMeanSquaredError()\n",
        "DRNN_model.compile( optimizer=keras.optimizers.Nadam(learning_rate=1e-3,beta_1=0.9, beta_2=0.999, epsilon=1e-07),\n",
        "                loss=\"mean_squared_error\",\n",
        "                metrics=[rmse])"
      ],
      "execution_count": null,
      "outputs": []
    },
    {
      "cell_type": "code",
      "metadata": {
        "colab": {
          "base_uri": "https://localhost:8080/",
          "height": 1000
        },
        "id": "FFL6IiAC9HVU",
        "outputId": "df8f1ce4-2419-47c0-8444-e834dfa86e95"
      },
      "source": [
        "\n",
        "\n",
        "EPOCHS= 50\n",
        "\n",
        "history = DRNN_model.fit(train_X, train_y,\n",
        "                   validation_data=(test_X, test_y),\n",
        "                   epochs=EPOCHS,\n",
        "                   verbose=2, shuffle=False,\n",
        "                  batch_size=3, # you can use the make_input_fn as well.\n",
        "                  callbacks=[tfdocs.modeling.EpochDots()])\n",
        "\n",
        "pyplot.plot(history.history['loss'], label='train')\n",
        "pyplot.plot(history.history['val_loss'], label='test')\n",
        "pyplot.legend()\n",
        "pyplot.show()"
      ],
      "execution_count": null,
      "outputs": [
        {
          "output_type": "stream",
          "text": [
            "Epoch 1/50\n",
            "11751/11751 - 21s - loss: 0.0056 - root_mean_squared_error: 0.0750 - val_loss: 0.0022 - val_root_mean_squared_error: 0.0469\n",
            "\n",
            "Epoch: 0, loss:0.0056,  root_mean_squared_error:0.0750,  val_loss:0.0022,  val_root_mean_squared_error:0.0469,  \n",
            ".Epoch 2/50\n",
            "11751/11751 - 19s - loss: 0.0045 - root_mean_squared_error: 0.0673 - val_loss: 0.0019 - val_root_mean_squared_error: 0.0436\n",
            ".Epoch 3/50\n",
            "11751/11751 - 19s - loss: 0.0039 - root_mean_squared_error: 0.0623 - val_loss: 0.0016 - val_root_mean_squared_error: 0.0400\n",
            ".Epoch 4/50\n",
            "11751/11751 - 19s - loss: 0.0032 - root_mean_squared_error: 0.0567 - val_loss: 0.0015 - val_root_mean_squared_error: 0.0393\n",
            ".Epoch 5/50\n",
            "11751/11751 - 19s - loss: 0.0030 - root_mean_squared_error: 0.0546 - val_loss: 0.0016 - val_root_mean_squared_error: 0.0403\n",
            ".Epoch 6/50\n",
            "11751/11751 - 19s - loss: 0.0028 - root_mean_squared_error: 0.0533 - val_loss: 0.0015 - val_root_mean_squared_error: 0.0392\n",
            ".Epoch 7/50\n",
            "11751/11751 - 19s - loss: 0.0028 - root_mean_squared_error: 0.0525 - val_loss: 0.0016 - val_root_mean_squared_error: 0.0406\n",
            ".Epoch 8/50\n",
            "11751/11751 - 19s - loss: 0.0027 - root_mean_squared_error: 0.0518 - val_loss: 0.0015 - val_root_mean_squared_error: 0.0392\n",
            ".Epoch 9/50\n",
            "11751/11751 - 19s - loss: 0.0027 - root_mean_squared_error: 0.0515 - val_loss: 0.0017 - val_root_mean_squared_error: 0.0410\n",
            ".Epoch 10/50\n",
            "11751/11751 - 19s - loss: 0.0026 - root_mean_squared_error: 0.0513 - val_loss: 0.0017 - val_root_mean_squared_error: 0.0408\n",
            ".Epoch 11/50\n",
            "11751/11751 - 19s - loss: 0.0026 - root_mean_squared_error: 0.0510 - val_loss: 0.0015 - val_root_mean_squared_error: 0.0392\n",
            ".Epoch 12/50\n",
            "11751/11751 - 19s - loss: 0.0026 - root_mean_squared_error: 0.0505 - val_loss: 0.0016 - val_root_mean_squared_error: 0.0401\n",
            ".Epoch 13/50\n",
            "11751/11751 - 19s - loss: 0.0025 - root_mean_squared_error: 0.0503 - val_loss: 0.0019 - val_root_mean_squared_error: 0.0431\n",
            ".Epoch 14/50\n",
            "11751/11751 - 19s - loss: 0.0025 - root_mean_squared_error: 0.0499 - val_loss: 0.0016 - val_root_mean_squared_error: 0.0400\n",
            ".Epoch 15/50\n",
            "11751/11751 - 19s - loss: 0.0025 - root_mean_squared_error: 0.0499 - val_loss: 0.0016 - val_root_mean_squared_error: 0.0396\n",
            ".Epoch 16/50\n",
            "11751/11751 - 19s - loss: 0.0025 - root_mean_squared_error: 0.0498 - val_loss: 0.0017 - val_root_mean_squared_error: 0.0411\n",
            ".Epoch 17/50\n",
            "11751/11751 - 19s - loss: 0.0025 - root_mean_squared_error: 0.0500 - val_loss: 0.0015 - val_root_mean_squared_error: 0.0384\n",
            ".Epoch 18/50\n",
            "11751/11751 - 19s - loss: 0.0024 - root_mean_squared_error: 0.0494 - val_loss: 0.0017 - val_root_mean_squared_error: 0.0418\n",
            ".Epoch 19/50\n",
            "11751/11751 - 19s - loss: 0.0025 - root_mean_squared_error: 0.0495 - val_loss: 0.0017 - val_root_mean_squared_error: 0.0406\n",
            ".Epoch 20/50\n",
            "11751/11751 - 19s - loss: 0.0024 - root_mean_squared_error: 0.0488 - val_loss: 0.0016 - val_root_mean_squared_error: 0.0400\n",
            ".Epoch 21/50\n",
            "11751/11751 - 19s - loss: 0.0024 - root_mean_squared_error: 0.0490 - val_loss: 0.0017 - val_root_mean_squared_error: 0.0415\n",
            ".Epoch 22/50\n",
            "11751/11751 - 19s - loss: 0.0024 - root_mean_squared_error: 0.0489 - val_loss: 0.0016 - val_root_mean_squared_error: 0.0404\n",
            ".Epoch 23/50\n",
            "11751/11751 - 19s - loss: 0.0024 - root_mean_squared_error: 0.0487 - val_loss: 0.0015 - val_root_mean_squared_error: 0.0393\n",
            ".Epoch 24/50\n",
            "11751/11751 - 19s - loss: 0.0023 - root_mean_squared_error: 0.0483 - val_loss: 0.0017 - val_root_mean_squared_error: 0.0411\n",
            ".Epoch 25/50\n",
            "11751/11751 - 19s - loss: 0.0023 - root_mean_squared_error: 0.0479 - val_loss: 0.0015 - val_root_mean_squared_error: 0.0390\n",
            ".Epoch 26/50\n",
            "11751/11751 - 19s - loss: 0.0023 - root_mean_squared_error: 0.0479 - val_loss: 0.0018 - val_root_mean_squared_error: 0.0420\n",
            ".Epoch 27/50\n",
            "11751/11751 - 19s - loss: 0.0023 - root_mean_squared_error: 0.0477 - val_loss: 0.0019 - val_root_mean_squared_error: 0.0433\n",
            ".Epoch 28/50\n",
            "11751/11751 - 19s - loss: 0.0023 - root_mean_squared_error: 0.0476 - val_loss: 0.0017 - val_root_mean_squared_error: 0.0413\n",
            ".Epoch 29/50\n",
            "11751/11751 - 19s - loss: 0.0023 - root_mean_squared_error: 0.0476 - val_loss: 0.0014 - val_root_mean_squared_error: 0.0377\n",
            ".Epoch 30/50\n",
            "11751/11751 - 19s - loss: 0.0022 - root_mean_squared_error: 0.0473 - val_loss: 0.0018 - val_root_mean_squared_error: 0.0421\n",
            ".Epoch 31/50\n",
            "11751/11751 - 19s - loss: 0.0022 - root_mean_squared_error: 0.0471 - val_loss: 0.0014 - val_root_mean_squared_error: 0.0378\n",
            ".Epoch 32/50\n",
            "11751/11751 - 19s - loss: 0.0022 - root_mean_squared_error: 0.0470 - val_loss: 0.0014 - val_root_mean_squared_error: 0.0372\n",
            ".Epoch 33/50\n",
            "11751/11751 - 19s - loss: 0.0022 - root_mean_squared_error: 0.0469 - val_loss: 0.0015 - val_root_mean_squared_error: 0.0388\n",
            ".Epoch 34/50\n",
            "11751/11751 - 19s - loss: 0.0022 - root_mean_squared_error: 0.0467 - val_loss: 0.0017 - val_root_mean_squared_error: 0.0418\n",
            ".Epoch 35/50\n",
            "11751/11751 - 19s - loss: 0.0022 - root_mean_squared_error: 0.0464 - val_loss: 0.0015 - val_root_mean_squared_error: 0.0393\n",
            ".Epoch 36/50\n",
            "11751/11751 - 19s - loss: 0.0022 - root_mean_squared_error: 0.0464 - val_loss: 0.0014 - val_root_mean_squared_error: 0.0379\n",
            ".Epoch 37/50\n",
            "11751/11751 - 19s - loss: 0.0021 - root_mean_squared_error: 0.0462 - val_loss: 0.0016 - val_root_mean_squared_error: 0.0405\n",
            ".Epoch 38/50\n",
            "11751/11751 - 19s - loss: 0.0022 - root_mean_squared_error: 0.0464 - val_loss: 0.0017 - val_root_mean_squared_error: 0.0410\n",
            ".Epoch 39/50\n",
            "11751/11751 - 19s - loss: 0.0021 - root_mean_squared_error: 0.0462 - val_loss: 0.0016 - val_root_mean_squared_error: 0.0406\n",
            ".Epoch 40/50\n",
            "11751/11751 - 19s - loss: 0.0021 - root_mean_squared_error: 0.0461 - val_loss: 0.0015 - val_root_mean_squared_error: 0.0393\n",
            ".Epoch 41/50\n",
            "11751/11751 - 19s - loss: 0.0021 - root_mean_squared_error: 0.0461 - val_loss: 0.0015 - val_root_mean_squared_error: 0.0388\n",
            ".Epoch 42/50\n",
            "11751/11751 - 19s - loss: 0.0021 - root_mean_squared_error: 0.0460 - val_loss: 0.0016 - val_root_mean_squared_error: 0.0405\n",
            ".Epoch 43/50\n",
            "11751/11751 - 19s - loss: 0.0021 - root_mean_squared_error: 0.0459 - val_loss: 0.0015 - val_root_mean_squared_error: 0.0393\n",
            ".Epoch 44/50\n",
            "11751/11751 - 19s - loss: 0.0021 - root_mean_squared_error: 0.0460 - val_loss: 0.0014 - val_root_mean_squared_error: 0.0381\n",
            ".Epoch 45/50\n",
            "11751/11751 - 19s - loss: 0.0021 - root_mean_squared_error: 0.0459 - val_loss: 0.0016 - val_root_mean_squared_error: 0.0404\n",
            ".Epoch 46/50\n",
            "11751/11751 - 19s - loss: 0.0021 - root_mean_squared_error: 0.0460 - val_loss: 0.0015 - val_root_mean_squared_error: 0.0391\n",
            ".Epoch 47/50\n",
            "11751/11751 - 19s - loss: 0.0021 - root_mean_squared_error: 0.0459 - val_loss: 0.0016 - val_root_mean_squared_error: 0.0398\n",
            ".Epoch 48/50\n",
            "11751/11751 - 19s - loss: 0.0021 - root_mean_squared_error: 0.0459 - val_loss: 0.0014 - val_root_mean_squared_error: 0.0372\n",
            ".Epoch 49/50\n",
            "11751/11751 - 19s - loss: 0.0021 - root_mean_squared_error: 0.0458 - val_loss: 0.0015 - val_root_mean_squared_error: 0.0389\n",
            ".Epoch 50/50\n",
            "11751/11751 - 19s - loss: 0.0021 - root_mean_squared_error: 0.0458 - val_loss: 0.0017 - val_root_mean_squared_error: 0.0410\n",
            "."
          ],
          "name": "stdout"
        },
        {
          "output_type": "display_data",
          "data": {
            "image/png": "[encoded data removed]",
            "text/plain": [
              "<Figure size 432x288 with 1 Axes>"
            ]
          },
          "metadata": {
            "tags": []
          }
        }
      ]
    },
    {
      "cell_type": "code",
      "metadata": {
        "colab": {
          "base_uri": "https://localhost:8080/"
        },
        "id": "yILQvVSuSnz2",
        "outputId": "4bb5f425-97ed-4db4-bf31-d74ee3d5e1cb"
      },
      "source": [
        "from sklearn.metrics import mean_squared_error\n",
        "from sklearn.model_selection import train_test_split\n",
        "from sklearn.metrics import r2_score\n",
        "from sklearn.metrics import mean_absolute_error\n",
        "\n",
        "def mean_absolute_percentage_error(y_true, y_pred): \n",
        "    y_true, y_pred = np.array(y_true), np.array(y_pred)\n",
        "    return np.mean(np.abs((y_true - y_pred) / y_true))\n",
        "\n",
        "\n",
        "y_prediction = DRNN_model.predict(test_X)\n",
        "y_prediction=y_prediction.reshape(-1)\n",
        "\n",
        "\n",
        "print(mean_squared_error(y_prediction, test_y))\n",
        "print(mean_absolute_percentage_error(y_prediction, test_y))\n",
        "print(r2_score(y_prediction, test_y))\n",
        "print(mean_absolute_error(y_prediction, test_y))\n",
        "y_prediction.shape"
      ],
      "execution_count": null,
      "outputs": [
        {
          "output_type": "stream",
          "text": [
            "0.0016773691883393872\n",
            "0.28989714195697325\n",
            "0.8489764912324507\n",
            "0.029846499082407364\n"
          ],
          "name": "stdout"
        },
        {
          "output_type": "execute_result",
          "data": {
            "text/plain": [
              "(14738,)"
            ]
          },
          "metadata": {
            "tags": []
          },
          "execution_count": 65
        }
      ]
    },
    {
      "cell_type": "code",
      "metadata": {
        "id": "12BRJF0fE32p",
        "colab": {
          "base_uri": "https://localhost:8080/",
          "height": 296
        },
        "outputId": "4ae88fe1-63f4-428c-aa0c-aabc2108816a"
      },
      "source": [
        "horizon = {'prediction_LSTM': y_prediction,\n",
        "           'Ground_data':test_y,\n",
        "        }\n",
        "\n",
        "df = pd.DataFrame(horizon, columns= ['prediction_LSTM','Ground_data'])\n",
        "df.to_csv (r'C:\\Users\\surface\\Desktop\\Python\\Load_data.csv', index = False, header=True)\n",
        "df.to_csv('DLR_LSTM.csv', index = False, header=True)\n",
        "\n",
        "#files.download(\"DLR_LSTM.csv\")\n",
        "df.describe()"
      ],
      "execution_count": null,
      "outputs": [
        {
          "output_type": "display_data",
          "data": {
            "application/javascript": [
              "\n",
              "    async function download(id, filename, size) {\n",
              "      if (!google.colab.kernel.accessAllowed) {\n",
              "        return;\n",
              "      }\n",
              "      const div = document.createElement('div');\n",
              "      const label = document.createElement('label');\n",
              "      label.textContent = `Downloading \"${filename}\": `;\n",
              "      div.appendChild(label);\n",
              "      const progress = document.createElement('progress');\n",
              "      progress.max = size;\n",
              "      div.appendChild(progress);\n",
              "      document.body.appendChild(div);\n",
              "\n",
              "      const buffers = [];\n",
              "      let downloaded = 0;\n",
              "\n",
              "      const channel = await google.colab.kernel.comms.open(id);\n",
              "      // Send a message to notify the kernel that we're ready.\n",
              "      channel.send({})\n",
              "\n",
              "      for await (const message of channel.messages) {\n",
              "        // Send a message to notify the kernel that we're ready.\n",
              "        channel.send({})\n",
              "        if (message.buffers) {\n",
              "          for (const buffer of message.buffers) {\n",
              "            buffers.push(buffer);\n",
              "            downloaded += buffer.byteLength;\n",
              "            progress.value = downloaded;\n",
              "          }\n",
              "        }\n",
              "      }\n",
              "      const blob = new Blob(buffers, {type: 'application/binary'});\n",
              "      const a = document.createElement('a');\n",
              "      a.href = window.URL.createObjectURL(blob);\n",
              "      a.download = filename;\n",
              "      div.appendChild(a);\n",
              "      a.click();\n",
              "      div.remove();\n",
              "    }\n",
              "  "
            ],
            "text/plain": [
              "<IPython.core.display.Javascript object>"
            ]
          },
          "metadata": {
            "tags": []
          }
        },
        {
          "output_type": "display_data",
          "data": {
            "application/javascript": [
              "download(\"download_a4b08b6f-85b4-4d69-9bea-9707dad1742b\", \"DLR_LSTM.csv\", 444900)"
            ],
            "text/plain": [
              "<IPython.core.display.Javascript object>"
            ]
          },
          "metadata": {
            "tags": []
          }
        },
        {
          "output_type": "execute_result",
          "data": {
            "text/html": [
              "<div>\n",
              "<style scoped>\n",
              "    .dataframe tbody tr th:only-of-type {\n",
              "        vertical-align: middle;\n",
              "    }\n",
              "\n",
              "    .dataframe tbody tr th {\n",
              "        vertical-align: top;\n",
              "    }\n",
              "\n",
              "    .dataframe thead th {\n",
              "        text-align: right;\n",
              "    }\n",
              "</style>\n",
              "<table border=\"1\" class=\"dataframe\">\n",
              "  <thead>\n",
              "    <tr style=\"text-align: right;\">\n",
              "      <th></th>\n",
              "      <th>prediction_LSTM</th>\n",
              "      <th>Ground_data</th>\n",
              "    </tr>\n",
              "  </thead>\n",
              "  <tbody>\n",
              "    <tr>\n",
              "      <th>count</th>\n",
              "      <td>14738.000000</td>\n",
              "      <td>14738.000000</td>\n",
              "    </tr>\n",
              "    <tr>\n",
              "      <th>mean</th>\n",
              "      <td>0.136914</td>\n",
              "      <td>0.152099</td>\n",
              "    </tr>\n",
              "    <tr>\n",
              "      <th>std</th>\n",
              "      <td>0.103339</td>\n",
              "      <td>0.122687</td>\n",
              "    </tr>\n",
              "    <tr>\n",
              "      <th>min</th>\n",
              "      <td>0.007223</td>\n",
              "      <td>0.000000</td>\n",
              "    </tr>\n",
              "    <tr>\n",
              "      <th>25%</th>\n",
              "      <td>0.075525</td>\n",
              "      <td>0.071429</td>\n",
              "    </tr>\n",
              "    <tr>\n",
              "      <th>50%</th>\n",
              "      <td>0.104021</td>\n",
              "      <td>0.119048</td>\n",
              "    </tr>\n",
              "    <tr>\n",
              "      <th>75%</th>\n",
              "      <td>0.159587</td>\n",
              "      <td>0.190476</td>\n",
              "    </tr>\n",
              "    <tr>\n",
              "      <th>max</th>\n",
              "      <td>0.804896</td>\n",
              "      <td>0.952381</td>\n",
              "    </tr>\n",
              "  </tbody>\n",
              "</table>\n",
              "</div>"
            ],
            "text/plain": [
              "       prediction_LSTM   Ground_data\n",
              "count     14738.000000  14738.000000\n",
              "mean          0.136914      0.152099\n",
              "std           0.103339      0.122687\n",
              "min           0.007223      0.000000\n",
              "25%           0.075525      0.071429\n",
              "50%           0.104021      0.119048\n",
              "75%           0.159587      0.190476\n",
              "max           0.804896      0.952381"
            ]
          },
          "metadata": {
            "tags": []
          },
          "execution_count": 33
        }
      ]
    },
    {
      "cell_type": "code",
      "metadata": {
        "colab": {
          "base_uri": "https://localhost:8080/",
          "height": 742
        },
        "id": "M6Xkyns4MLuf",
        "outputId": "72e8308c-c8f8-479d-e9f2-84cb2ac522e2"
      },
      "source": [
        "# make a prediction\n",
        "yhat = DRNN_model.predict(test_X)\n",
        "test_X = test_X.reshape((test_X.shape[0], test_X.shape[2]))\n",
        "# invert scaling for forecast\n",
        "inv_yhat = concatenate((yhat, test_X[:, 1:]), axis=1)\n",
        "inv_yhat = scaler.inverse_transform(inv_yhat)\n",
        "inv_yhat = inv_yhat[:,0]\n",
        "# invert scaling for actual\n",
        "test_y = test_y.reshape((len(test_y), 1))\n",
        "inv_y = concatenate((test_y, test_X[:, 1:]), axis=1)\n",
        "inv_y = scaler.inverse_transform(inv_y)\n",
        "inv_y = inv_y[:,0]\n",
        "# calculate RMSE\n",
        "rmse = sqrt(mean_squared_error(inv_y, inv_yhat))\n",
        "#print('Test RMSE: %.3f' % rmse)"
      ],
      "execution_count": null,
      "outputs": [
        {
          "output_type": "error",
          "ename": "ValueError",
          "evalue": "ignored",
          "traceback": [
            "\u001b[0;31m---------------------------------------------------------------------------\u001b[0m",
            "\u001b[0;31mValueError\u001b[0m                                Traceback (most recent call last)",
            "\u001b[0;32m<ipython-input-46-4218175ba05d>\u001b[0m in \u001b[0;36m<module>\u001b[0;34m()\u001b[0m\n\u001b[1;32m      1\u001b[0m \u001b[0;31m# make a prediction\u001b[0m\u001b[0;34m\u001b[0m\u001b[0;34m\u001b[0m\u001b[0;34m\u001b[0m\u001b[0m\n\u001b[0;32m----> 2\u001b[0;31m \u001b[0myhat\u001b[0m \u001b[0;34m=\u001b[0m \u001b[0mDRNN_model\u001b[0m\u001b[0;34m.\u001b[0m\u001b[0mpredict\u001b[0m\u001b[0;34m(\u001b[0m\u001b[0mtest_X\u001b[0m\u001b[0;34m)\u001b[0m\u001b[0;34m\u001b[0m\u001b[0;34m\u001b[0m\u001b[0m\n\u001b[0m\u001b[1;32m      3\u001b[0m \u001b[0mtest_X\u001b[0m \u001b[0;34m=\u001b[0m \u001b[0mtest_X\u001b[0m\u001b[0;34m.\u001b[0m\u001b[0mreshape\u001b[0m\u001b[0;34m(\u001b[0m\u001b[0;34m(\u001b[0m\u001b[0mtest_X\u001b[0m\u001b[0;34m.\u001b[0m\u001b[0mshape\u001b[0m\u001b[0;34m[\u001b[0m\u001b[0;36m0\u001b[0m\u001b[0;34m]\u001b[0m\u001b[0;34m,\u001b[0m \u001b[0mtest_X\u001b[0m\u001b[0;34m.\u001b[0m\u001b[0mshape\u001b[0m\u001b[0;34m[\u001b[0m\u001b[0;36m2\u001b[0m\u001b[0;34m]\u001b[0m\u001b[0;34m)\u001b[0m\u001b[0;34m)\u001b[0m\u001b[0;34m\u001b[0m\u001b[0;34m\u001b[0m\u001b[0m\n\u001b[1;32m      4\u001b[0m \u001b[0;31m# invert scaling for forecast\u001b[0m\u001b[0;34m\u001b[0m\u001b[0;34m\u001b[0m\u001b[0;34m\u001b[0m\u001b[0m\n\u001b[1;32m      5\u001b[0m \u001b[0minv_yhat\u001b[0m \u001b[0;34m=\u001b[0m \u001b[0mconcatenate\u001b[0m\u001b[0;34m(\u001b[0m\u001b[0;34m(\u001b[0m\u001b[0myhat\u001b[0m\u001b[0;34m,\u001b[0m \u001b[0mtest_X\u001b[0m\u001b[0;34m[\u001b[0m\u001b[0;34m:\u001b[0m\u001b[0;34m,\u001b[0m \u001b[0;36m1\u001b[0m\u001b[0;34m:\u001b[0m\u001b[0;34m]\u001b[0m\u001b[0;34m)\u001b[0m\u001b[0;34m,\u001b[0m \u001b[0maxis\u001b[0m\u001b[0;34m=\u001b[0m\u001b[0;36m1\u001b[0m\u001b[0;34m)\u001b[0m\u001b[0;34m\u001b[0m\u001b[0;34m\u001b[0m\u001b[0m\n",
            "\u001b[0;32m/usr/local/lib/python3.6/dist-packages/tensorflow/python/keras/engine/training.py\u001b[0m in \u001b[0;36mpredict\u001b[0;34m(self, x, batch_size, verbose, steps, callbacks, max_queue_size, workers, use_multiprocessing)\u001b[0m\n\u001b[1;32m   1627\u001b[0m           \u001b[0;32mfor\u001b[0m \u001b[0mstep\u001b[0m \u001b[0;32min\u001b[0m \u001b[0mdata_handler\u001b[0m\u001b[0;34m.\u001b[0m\u001b[0msteps\u001b[0m\u001b[0;34m(\u001b[0m\u001b[0;34m)\u001b[0m\u001b[0;34m:\u001b[0m\u001b[0;34m\u001b[0m\u001b[0;34m\u001b[0m\u001b[0m\n\u001b[1;32m   1628\u001b[0m             \u001b[0mcallbacks\u001b[0m\u001b[0;34m.\u001b[0m\u001b[0mon_predict_batch_begin\u001b[0m\u001b[0;34m(\u001b[0m\u001b[0mstep\u001b[0m\u001b[0;34m)\u001b[0m\u001b[0;34m\u001b[0m\u001b[0;34m\u001b[0m\u001b[0m\n\u001b[0;32m-> 1629\u001b[0;31m             \u001b[0mtmp_batch_outputs\u001b[0m \u001b[0;34m=\u001b[0m \u001b[0mself\u001b[0m\u001b[0;34m.\u001b[0m\u001b[0mpredict_function\u001b[0m\u001b[0;34m(\u001b[0m\u001b[0miterator\u001b[0m\u001b[0;34m)\u001b[0m\u001b[0;34m\u001b[0m\u001b[0;34m\u001b[0m\u001b[0m\n\u001b[0m\u001b[1;32m   1630\u001b[0m             \u001b[0;32mif\u001b[0m \u001b[0mdata_handler\u001b[0m\u001b[0;34m.\u001b[0m\u001b[0mshould_sync\u001b[0m\u001b[0;34m:\u001b[0m\u001b[0;34m\u001b[0m\u001b[0;34m\u001b[0m\u001b[0m\n\u001b[1;32m   1631\u001b[0m               \u001b[0mcontext\u001b[0m\u001b[0;34m.\u001b[0m\u001b[0masync_wait\u001b[0m\u001b[0;34m(\u001b[0m\u001b[0;34m)\u001b[0m\u001b[0;34m\u001b[0m\u001b[0;34m\u001b[0m\u001b[0m\n",
            "\u001b[0;32m/usr/local/lib/python3.6/dist-packages/tensorflow/python/eager/def_function.py\u001b[0m in \u001b[0;36m__call__\u001b[0;34m(self, *args, **kwds)\u001b[0m\n\u001b[1;32m    826\u001b[0m     \u001b[0mtracing_count\u001b[0m \u001b[0;34m=\u001b[0m \u001b[0mself\u001b[0m\u001b[0;34m.\u001b[0m\u001b[0mexperimental_get_tracing_count\u001b[0m\u001b[0;34m(\u001b[0m\u001b[0;34m)\u001b[0m\u001b[0;34m\u001b[0m\u001b[0;34m\u001b[0m\u001b[0m\n\u001b[1;32m    827\u001b[0m     \u001b[0;32mwith\u001b[0m \u001b[0mtrace\u001b[0m\u001b[0;34m.\u001b[0m\u001b[0mTrace\u001b[0m\u001b[0;34m(\u001b[0m\u001b[0mself\u001b[0m\u001b[0;34m.\u001b[0m\u001b[0m_name\u001b[0m\u001b[0;34m)\u001b[0m \u001b[0;32mas\u001b[0m \u001b[0mtm\u001b[0m\u001b[0;34m:\u001b[0m\u001b[0;34m\u001b[0m\u001b[0;34m\u001b[0m\u001b[0m\n\u001b[0;32m--> 828\u001b[0;31m       \u001b[0mresult\u001b[0m \u001b[0;34m=\u001b[0m \u001b[0mself\u001b[0m\u001b[0;34m.\u001b[0m\u001b[0m_call\u001b[0m\u001b[0;34m(\u001b[0m\u001b[0;34m*\u001b[0m\u001b[0margs\u001b[0m\u001b[0;34m,\u001b[0m \u001b[0;34m**\u001b[0m\u001b[0mkwds\u001b[0m\u001b[0;34m)\u001b[0m\u001b[0;34m\u001b[0m\u001b[0;34m\u001b[0m\u001b[0m\n\u001b[0m\u001b[1;32m    829\u001b[0m       \u001b[0mcompiler\u001b[0m \u001b[0;34m=\u001b[0m \u001b[0;34m\"xla\"\u001b[0m \u001b[0;32mif\u001b[0m \u001b[0mself\u001b[0m\u001b[0;34m.\u001b[0m\u001b[0m_experimental_compile\u001b[0m \u001b[0;32melse\u001b[0m \u001b[0;34m\"nonXla\"\u001b[0m\u001b[0;34m\u001b[0m\u001b[0;34m\u001b[0m\u001b[0m\n\u001b[1;32m    830\u001b[0m       \u001b[0mnew_tracing_count\u001b[0m \u001b[0;34m=\u001b[0m \u001b[0mself\u001b[0m\u001b[0;34m.\u001b[0m\u001b[0mexperimental_get_tracing_count\u001b[0m\u001b[0;34m(\u001b[0m\u001b[0;34m)\u001b[0m\u001b[0;34m\u001b[0m\u001b[0;34m\u001b[0m\u001b[0m\n",
            "\u001b[0;32m/usr/local/lib/python3.6/dist-packages/tensorflow/python/eager/def_function.py\u001b[0m in \u001b[0;36m_call\u001b[0;34m(self, *args, **kwds)\u001b[0m\n\u001b[1;32m    860\u001b[0m       \u001b[0;31m# In this case we have not created variables on the first call. So we can\u001b[0m\u001b[0;34m\u001b[0m\u001b[0;34m\u001b[0m\u001b[0;34m\u001b[0m\u001b[0m\n\u001b[1;32m    861\u001b[0m       \u001b[0;31m# run the first trace but we should fail if variables are created.\u001b[0m\u001b[0;34m\u001b[0m\u001b[0;34m\u001b[0m\u001b[0;34m\u001b[0m\u001b[0m\n\u001b[0;32m--> 862\u001b[0;31m       \u001b[0mresults\u001b[0m \u001b[0;34m=\u001b[0m \u001b[0mself\u001b[0m\u001b[0;34m.\u001b[0m\u001b[0m_stateful_fn\u001b[0m\u001b[0;34m(\u001b[0m\u001b[0;34m*\u001b[0m\u001b[0margs\u001b[0m\u001b[0;34m,\u001b[0m \u001b[0;34m**\u001b[0m\u001b[0mkwds\u001b[0m\u001b[0;34m)\u001b[0m\u001b[0;34m\u001b[0m\u001b[0;34m\u001b[0m\u001b[0m\n\u001b[0m\u001b[1;32m    863\u001b[0m       \u001b[0;32mif\u001b[0m \u001b[0mself\u001b[0m\u001b[0;34m.\u001b[0m\u001b[0m_created_variables\u001b[0m\u001b[0;34m:\u001b[0m\u001b[0;34m\u001b[0m\u001b[0;34m\u001b[0m\u001b[0m\n\u001b[1;32m    864\u001b[0m         raise ValueError(\"Creating variables on a non-first call to a function\"\n",
            "\u001b[0;32m/usr/local/lib/python3.6/dist-packages/tensorflow/python/eager/function.py\u001b[0m in \u001b[0;36m__call__\u001b[0;34m(self, *args, **kwargs)\u001b[0m\n\u001b[1;32m   2939\u001b[0m     \u001b[0;32mwith\u001b[0m \u001b[0mself\u001b[0m\u001b[0;34m.\u001b[0m\u001b[0m_lock\u001b[0m\u001b[0;34m:\u001b[0m\u001b[0;34m\u001b[0m\u001b[0;34m\u001b[0m\u001b[0m\n\u001b[1;32m   2940\u001b[0m       (graph_function,\n\u001b[0;32m-> 2941\u001b[0;31m        filtered_flat_args) = self._maybe_define_function(args, kwargs)\n\u001b[0m\u001b[1;32m   2942\u001b[0m     return graph_function._call_flat(\n\u001b[1;32m   2943\u001b[0m         filtered_flat_args, captured_inputs=graph_function.captured_inputs)  # pylint: disable=protected-access\n",
            "\u001b[0;32m/usr/local/lib/python3.6/dist-packages/tensorflow/python/eager/function.py\u001b[0m in \u001b[0;36m_maybe_define_function\u001b[0;34m(self, args, kwargs)\u001b[0m\n\u001b[1;32m   3356\u001b[0m               call_context_key in self._function_cache.missed):\n\u001b[1;32m   3357\u001b[0m             return self._define_function_with_shape_relaxation(\n\u001b[0;32m-> 3358\u001b[0;31m                 args, kwargs, flat_args, filtered_flat_args, cache_key_context)\n\u001b[0m\u001b[1;32m   3359\u001b[0m \u001b[0;34m\u001b[0m\u001b[0m\n\u001b[1;32m   3360\u001b[0m           \u001b[0mself\u001b[0m\u001b[0;34m.\u001b[0m\u001b[0m_function_cache\u001b[0m\u001b[0;34m.\u001b[0m\u001b[0mmissed\u001b[0m\u001b[0;34m.\u001b[0m\u001b[0madd\u001b[0m\u001b[0;34m(\u001b[0m\u001b[0mcall_context_key\u001b[0m\u001b[0;34m)\u001b[0m\u001b[0;34m\u001b[0m\u001b[0;34m\u001b[0m\u001b[0m\n",
            "\u001b[0;32m/usr/local/lib/python3.6/dist-packages/tensorflow/python/eager/function.py\u001b[0m in \u001b[0;36m_define_function_with_shape_relaxation\u001b[0;34m(self, args, kwargs, flat_args, filtered_flat_args, cache_key_context)\u001b[0m\n\u001b[1;32m   3278\u001b[0m \u001b[0;34m\u001b[0m\u001b[0m\n\u001b[1;32m   3279\u001b[0m     graph_function = self._create_graph_function(\n\u001b[0;32m-> 3280\u001b[0;31m         args, kwargs, override_flat_arg_shapes=relaxed_arg_shapes)\n\u001b[0m\u001b[1;32m   3281\u001b[0m     \u001b[0mself\u001b[0m\u001b[0;34m.\u001b[0m\u001b[0m_function_cache\u001b[0m\u001b[0;34m.\u001b[0m\u001b[0marg_relaxed\u001b[0m\u001b[0;34m[\u001b[0m\u001b[0mrank_only_cache_key\u001b[0m\u001b[0;34m]\u001b[0m \u001b[0;34m=\u001b[0m \u001b[0mgraph_function\u001b[0m\u001b[0;34m\u001b[0m\u001b[0;34m\u001b[0m\u001b[0m\n\u001b[1;32m   3282\u001b[0m \u001b[0;34m\u001b[0m\u001b[0m\n",
            "\u001b[0;32m/usr/local/lib/python3.6/dist-packages/tensorflow/python/eager/function.py\u001b[0m in \u001b[0;36m_create_graph_function\u001b[0;34m(self, args, kwargs, override_flat_arg_shapes)\u001b[0m\n\u001b[1;32m   3204\u001b[0m             \u001b[0marg_names\u001b[0m\u001b[0;34m=\u001b[0m\u001b[0marg_names\u001b[0m\u001b[0;34m,\u001b[0m\u001b[0;34m\u001b[0m\u001b[0;34m\u001b[0m\u001b[0m\n\u001b[1;32m   3205\u001b[0m             \u001b[0moverride_flat_arg_shapes\u001b[0m\u001b[0;34m=\u001b[0m\u001b[0moverride_flat_arg_shapes\u001b[0m\u001b[0;34m,\u001b[0m\u001b[0;34m\u001b[0m\u001b[0;34m\u001b[0m\u001b[0m\n\u001b[0;32m-> 3206\u001b[0;31m             capture_by_value=self._capture_by_value),\n\u001b[0m\u001b[1;32m   3207\u001b[0m         \u001b[0mself\u001b[0m\u001b[0;34m.\u001b[0m\u001b[0m_function_attributes\u001b[0m\u001b[0;34m,\u001b[0m\u001b[0;34m\u001b[0m\u001b[0;34m\u001b[0m\u001b[0m\n\u001b[1;32m   3208\u001b[0m         \u001b[0mfunction_spec\u001b[0m\u001b[0;34m=\u001b[0m\u001b[0mself\u001b[0m\u001b[0;34m.\u001b[0m\u001b[0mfunction_spec\u001b[0m\u001b[0;34m,\u001b[0m\u001b[0;34m\u001b[0m\u001b[0;34m\u001b[0m\u001b[0m\n",
            "\u001b[0;32m/usr/local/lib/python3.6/dist-packages/tensorflow/python/framework/func_graph.py\u001b[0m in \u001b[0;36mfunc_graph_from_py_func\u001b[0;34m(name, python_func, args, kwargs, signature, func_graph, autograph, autograph_options, add_control_dependencies, arg_names, op_return_value, collections, capture_by_value, override_flat_arg_shapes)\u001b[0m\n\u001b[1;32m    988\u001b[0m         \u001b[0m_\u001b[0m\u001b[0;34m,\u001b[0m \u001b[0moriginal_func\u001b[0m \u001b[0;34m=\u001b[0m \u001b[0mtf_decorator\u001b[0m\u001b[0;34m.\u001b[0m\u001b[0munwrap\u001b[0m\u001b[0;34m(\u001b[0m\u001b[0mpython_func\u001b[0m\u001b[0;34m)\u001b[0m\u001b[0;34m\u001b[0m\u001b[0;34m\u001b[0m\u001b[0m\n\u001b[1;32m    989\u001b[0m \u001b[0;34m\u001b[0m\u001b[0m\n\u001b[0;32m--> 990\u001b[0;31m       \u001b[0mfunc_outputs\u001b[0m \u001b[0;34m=\u001b[0m \u001b[0mpython_func\u001b[0m\u001b[0;34m(\u001b[0m\u001b[0;34m*\u001b[0m\u001b[0mfunc_args\u001b[0m\u001b[0;34m,\u001b[0m \u001b[0;34m**\u001b[0m\u001b[0mfunc_kwargs\u001b[0m\u001b[0;34m)\u001b[0m\u001b[0;34m\u001b[0m\u001b[0;34m\u001b[0m\u001b[0m\n\u001b[0m\u001b[1;32m    991\u001b[0m \u001b[0;34m\u001b[0m\u001b[0m\n\u001b[1;32m    992\u001b[0m       \u001b[0;31m# invariant: `func_outputs` contains only Tensors, CompositeTensors,\u001b[0m\u001b[0;34m\u001b[0m\u001b[0;34m\u001b[0m\u001b[0;34m\u001b[0m\u001b[0m\n",
            "\u001b[0;32m/usr/local/lib/python3.6/dist-packages/tensorflow/python/eager/def_function.py\u001b[0m in \u001b[0;36mwrapped_fn\u001b[0;34m(*args, **kwds)\u001b[0m\n\u001b[1;32m    632\u001b[0m             \u001b[0mxla_context\u001b[0m\u001b[0;34m.\u001b[0m\u001b[0mExit\u001b[0m\u001b[0;34m(\u001b[0m\u001b[0;34m)\u001b[0m\u001b[0;34m\u001b[0m\u001b[0;34m\u001b[0m\u001b[0m\n\u001b[1;32m    633\u001b[0m         \u001b[0;32melse\u001b[0m\u001b[0;34m:\u001b[0m\u001b[0;34m\u001b[0m\u001b[0;34m\u001b[0m\u001b[0m\n\u001b[0;32m--> 634\u001b[0;31m           \u001b[0mout\u001b[0m \u001b[0;34m=\u001b[0m \u001b[0mweak_wrapped_fn\u001b[0m\u001b[0;34m(\u001b[0m\u001b[0;34m)\u001b[0m\u001b[0;34m.\u001b[0m\u001b[0m__wrapped__\u001b[0m\u001b[0;34m(\u001b[0m\u001b[0;34m*\u001b[0m\u001b[0margs\u001b[0m\u001b[0;34m,\u001b[0m \u001b[0;34m**\u001b[0m\u001b[0mkwds\u001b[0m\u001b[0;34m)\u001b[0m\u001b[0;34m\u001b[0m\u001b[0;34m\u001b[0m\u001b[0m\n\u001b[0m\u001b[1;32m    635\u001b[0m         \u001b[0;32mreturn\u001b[0m \u001b[0mout\u001b[0m\u001b[0;34m\u001b[0m\u001b[0;34m\u001b[0m\u001b[0m\n\u001b[1;32m    636\u001b[0m \u001b[0;34m\u001b[0m\u001b[0m\n",
            "\u001b[0;32m/usr/local/lib/python3.6/dist-packages/tensorflow/python/framework/func_graph.py\u001b[0m in \u001b[0;36mwrapper\u001b[0;34m(*args, **kwargs)\u001b[0m\n\u001b[1;32m    975\u001b[0m           \u001b[0;32mexcept\u001b[0m \u001b[0mException\u001b[0m \u001b[0;32mas\u001b[0m \u001b[0me\u001b[0m\u001b[0;34m:\u001b[0m  \u001b[0;31m# pylint:disable=broad-except\u001b[0m\u001b[0;34m\u001b[0m\u001b[0;34m\u001b[0m\u001b[0m\n\u001b[1;32m    976\u001b[0m             \u001b[0;32mif\u001b[0m \u001b[0mhasattr\u001b[0m\u001b[0;34m(\u001b[0m\u001b[0me\u001b[0m\u001b[0;34m,\u001b[0m \u001b[0;34m\"ag_error_metadata\"\u001b[0m\u001b[0;34m)\u001b[0m\u001b[0;34m:\u001b[0m\u001b[0;34m\u001b[0m\u001b[0;34m\u001b[0m\u001b[0m\n\u001b[0;32m--> 977\u001b[0;31m               \u001b[0;32mraise\u001b[0m \u001b[0me\u001b[0m\u001b[0;34m.\u001b[0m\u001b[0mag_error_metadata\u001b[0m\u001b[0;34m.\u001b[0m\u001b[0mto_exception\u001b[0m\u001b[0;34m(\u001b[0m\u001b[0me\u001b[0m\u001b[0;34m)\u001b[0m\u001b[0;34m\u001b[0m\u001b[0;34m\u001b[0m\u001b[0m\n\u001b[0m\u001b[1;32m    978\u001b[0m             \u001b[0;32melse\u001b[0m\u001b[0;34m:\u001b[0m\u001b[0;34m\u001b[0m\u001b[0;34m\u001b[0m\u001b[0m\n\u001b[1;32m    979\u001b[0m               \u001b[0;32mraise\u001b[0m\u001b[0;34m\u001b[0m\u001b[0;34m\u001b[0m\u001b[0m\n",
            "\u001b[0;31mValueError\u001b[0m: in user code:\n\n    /usr/local/lib/python3.6/dist-packages/tensorflow/python/keras/engine/training.py:1478 predict_function  *\n        return step_function(self, iterator)\n    /usr/local/lib/python3.6/dist-packages/tensorflow/python/keras/engine/training.py:1468 step_function  **\n        outputs = model.distribute_strategy.run(run_step, args=(data,))\n    /usr/local/lib/python3.6/dist-packages/tensorflow/python/distribute/distribute_lib.py:1259 run\n        return self._extended.call_for_each_replica(fn, args=args, kwargs=kwargs)\n    /usr/local/lib/python3.6/dist-packages/tensorflow/python/distribute/distribute_lib.py:2730 call_for_each_replica\n        return self._call_for_each_replica(fn, args, kwargs)\n    /usr/local/lib/python3.6/dist-packages/tensorflow/python/distribute/distribute_lib.py:3417 _call_for_each_replica\n        return fn(*args, **kwargs)\n    /usr/local/lib/python3.6/dist-packages/tensorflow/python/keras/engine/training.py:1461 run_step  **\n        outputs = model.predict_step(data)\n    /usr/local/lib/python3.6/dist-packages/tensorflow/python/keras/engine/training.py:1434 predict_step\n        return self(x, training=False)\n    /usr/local/lib/python3.6/dist-packages/tensorflow/python/keras/engine/base_layer.py:998 __call__\n        input_spec.assert_input_compatibility(self.input_spec, inputs, self.name)\n    /usr/local/lib/python3.6/dist-packages/tensorflow/python/keras/engine/input_spec.py:274 assert_input_compatibility\n        ', found shape=' + display_shape(x.shape))\n\n    ValueError: Input 0 is incompatible with layer DRNN: expected shape=(None, 1, 50), found shape=(None, 50)\n"
          ]
        }
      ]
    },
    {
      "cell_type": "code",
      "metadata": {
        "id": "iPdaaQjnMkS6"
      },
      "source": [],
      "execution_count": null,
      "outputs": []
    }
  ]
}