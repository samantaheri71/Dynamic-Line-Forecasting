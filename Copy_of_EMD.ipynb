{
  "nbformat": 4,
  "nbformat_minor": 0,
  "metadata": {
    "colab": {
      "provenance": [],
      "authorship_tag": "ABX9TyOXq9nl5Bq3h/9NC96H1Biv",
      "include_colab_link": true
    },
    "kernelspec": {
      "display_name": "Python 3",
      "name": "python3"
    }
  },
  "cells": [
    {
      "cell_type": "markdown",
      "metadata": {
        "id": "view-in-github",
        "colab_type": "text"
      },
      "source": [
        "<a href=\"https://colab.research.google.com/github/samantaheri71/Dynamic-Line-Forecasting/blob/main/Copy_of_EMD.ipynb\" target=\"_parent\"><img src=\"https://colab.research.google.com/assets/colab-badge.svg\" alt=\"Open In Colab\"/></a>"
      ]
    },
    {
      "cell_type": "code",
      "metadata": {
        "colab": {
          "base_uri": "https://localhost:8080/"
        },
        "id": "zgrQTKEubfzF",
        "outputId": "e6d87d88-e3d9-4ba2-c8f0-57fdfd928245"
      },
      "source": [
        "pip install emd"
      ],
      "execution_count": null,
      "outputs": [
        {
          "output_type": "stream",
          "text": [
            "Collecting emd\n",
            "\u001b[?25l  Downloading https://files.pythonhosted.org/packages/4d/27/44b0a8b20d91e2bfb61704e57a80172fc4dca3c4b57fc8881654a630c98e/emd-0.3.2-py2.py3-none-any.whl (50kB)\n",
            "\r\u001b[K     |██████▌                         | 10kB 10.4MB/s eta 0:00:01\r\u001b[K     |█████████████                   | 20kB 14.9MB/s eta 0:00:01\r\u001b[K     |███████████████████▍            | 30kB 7.9MB/s eta 0:00:01\r\u001b[K     |█████████████████████████▉      | 40kB 2.9MB/s eta 0:00:01\r\u001b[K     |████████████████████████████████| 51kB 2.5MB/s \n",
            "\u001b[?25hRequirement already satisfied: scipy in /usr/local/lib/python3.6/dist-packages (from emd) (1.4.1)\n",
            "Collecting numpydoc\n",
            "\u001b[?25l  Downloading https://files.pythonhosted.org/packages/60/1d/9e398c53d6ae27d5ab312ddc16a9ffe1bee0dfdf1d6ec88c40b0ca97582e/numpydoc-1.1.0-py3-none-any.whl (47kB)\n",
            "\u001b[K     |████████████████████████████████| 51kB 6.4MB/s \n",
            "\u001b[?25hRequirement already satisfied: matplotlib in /usr/local/lib/python3.6/dist-packages (from emd) (3.2.2)\n",
            "Requirement already satisfied: numpy in /usr/local/lib/python3.6/dist-packages (from emd) (1.19.4)\n",
            "Collecting sphinx-rtd-theme\n",
            "\u001b[?25l  Downloading https://files.pythonhosted.org/packages/76/81/d5af3a50a45ee4311ac2dac5b599d69f68388401c7a4ca902e0e450a9f94/sphinx_rtd_theme-0.5.1-py2.py3-none-any.whl (2.8MB)\n",
            "\u001b[K     |████████████████████████████████| 2.8MB 16.7MB/s \n",
            "\u001b[?25hRequirement already satisfied: sphinx>=1.6.5 in /usr/local/lib/python3.6/dist-packages (from numpydoc->emd) (1.8.5)\n",
            "Requirement already satisfied: Jinja2>=2.3 in /usr/local/lib/python3.6/dist-packages (from numpydoc->emd) (2.11.2)\n",
            "Requirement already satisfied: pyparsing!=2.0.4,!=2.1.2,!=2.1.6,>=2.0.1 in /usr/local/lib/python3.6/dist-packages (from matplotlib->emd) (2.4.7)\n",
            "Requirement already satisfied: kiwisolver>=1.0.1 in /usr/local/lib/python3.6/dist-packages (from matplotlib->emd) (1.3.1)\n",
            "Requirement already satisfied: cycler>=0.10 in /usr/local/lib/python3.6/dist-packages (from matplotlib->emd) (0.10.0)\n",
            "Requirement already satisfied: python-dateutil>=2.1 in /usr/local/lib/python3.6/dist-packages (from matplotlib->emd) (2.8.1)\n",
            "Requirement already satisfied: sphinxcontrib-websupport in /usr/local/lib/python3.6/dist-packages (from sphinx>=1.6.5->numpydoc->emd) (1.2.4)\n",
            "Requirement already satisfied: alabaster<0.8,>=0.7 in /usr/local/lib/python3.6/dist-packages (from sphinx>=1.6.5->numpydoc->emd) (0.7.12)\n",
            "Requirement already satisfied: snowballstemmer>=1.1 in /usr/local/lib/python3.6/dist-packages (from sphinx>=1.6.5->numpydoc->emd) (2.0.0)\n",
            "Requirement already satisfied: docutils>=0.11 in /usr/local/lib/python3.6/dist-packages (from sphinx>=1.6.5->numpydoc->emd) (0.16)\n",
            "Requirement already satisfied: babel!=2.0,>=1.3 in /usr/local/lib/python3.6/dist-packages (from sphinx>=1.6.5->numpydoc->emd) (2.9.0)\n",
            "Requirement already satisfied: six>=1.5 in /usr/local/lib/python3.6/dist-packages (from sphinx>=1.6.5->numpydoc->emd) (1.15.0)\n",
            "Requirement already satisfied: imagesize in /usr/local/lib/python3.6/dist-packages (from sphinx>=1.6.5->numpydoc->emd) (1.2.0)\n",
            "Requirement already satisfied: requests>=2.0.0 in /usr/local/lib/python3.6/dist-packages (from sphinx>=1.6.5->numpydoc->emd) (2.23.0)\n",
            "Requirement already satisfied: setuptools in /usr/local/lib/python3.6/dist-packages (from sphinx>=1.6.5->numpydoc->emd) (51.1.1)\n",
            "Requirement already satisfied: packaging in /usr/local/lib/python3.6/dist-packages (from sphinx>=1.6.5->numpydoc->emd) (20.8)\n",
            "Requirement already satisfied: Pygments>=2.0 in /usr/local/lib/python3.6/dist-packages (from sphinx>=1.6.5->numpydoc->emd) (2.6.1)\n",
            "Requirement already satisfied: MarkupSafe>=0.23 in /usr/local/lib/python3.6/dist-packages (from Jinja2>=2.3->numpydoc->emd) (1.1.1)\n",
            "Requirement already satisfied: sphinxcontrib-serializinghtml in /usr/local/lib/python3.6/dist-packages (from sphinxcontrib-websupport->sphinx>=1.6.5->numpydoc->emd) (1.1.4)\n",
            "Requirement already satisfied: pytz>=2015.7 in /usr/local/lib/python3.6/dist-packages (from babel!=2.0,>=1.3->sphinx>=1.6.5->numpydoc->emd) (2018.9)\n",
            "Requirement already satisfied: urllib3!=1.25.0,!=1.25.1,<1.26,>=1.21.1 in /usr/local/lib/python3.6/dist-packages (from requests>=2.0.0->sphinx>=1.6.5->numpydoc->emd) (1.24.3)\n",
            "Requirement already satisfied: chardet<4,>=3.0.2 in /usr/local/lib/python3.6/dist-packages (from requests>=2.0.0->sphinx>=1.6.5->numpydoc->emd) (3.0.4)\n",
            "Requirement already satisfied: certifi>=2017.4.17 in /usr/local/lib/python3.6/dist-packages (from requests>=2.0.0->sphinx>=1.6.5->numpydoc->emd) (2020.12.5)\n",
            "Requirement already satisfied: idna<3,>=2.5 in /usr/local/lib/python3.6/dist-packages (from requests>=2.0.0->sphinx>=1.6.5->numpydoc->emd) (2.10)\n",
            "Installing collected packages: numpydoc, sphinx-rtd-theme, emd\n",
            "Successfully installed emd-0.3.2 numpydoc-1.1.0 sphinx-rtd-theme-0.5.1\n"
          ],
          "name": "stdout"
        }
      ]
    },
    {
      "cell_type": "code",
      "metadata": {
        "colab": {
          "base_uri": "https://localhost:8080/"
        },
        "id": "3ZIbMViCnxH9",
        "outputId": "acd4bd3d-3fed-4e3b-a4c2-d4f6371b1bab"
      },
      "source": [
        "\n",
        "%tensorflow_version 2.x\n",
        "import tensorflow as tf\n",
        "print(tf.version)\n",
        "import os\n",
        "import math\n",
        "import numpy as np\n",
        "from tensorflow import keras\n",
        "#from keras.preprocessing.sequence import TimeSeriesGenerator\n",
        "from tensorflow.keras.models import Sequential \n",
        "from tensorflow.keras.layers import Dense, LSTM, Dropout\n",
        "import warnings\n",
        "import matplotlib.pyplot as plt\n",
        "%matplotlib inline\n",
        "from statsmodels.tools.eval_measures import rmse\n",
        "from sklearn.preprocessing import MinMaxScaler\n",
        "warnings.filterwarnings(\"ignore\")\n",
        "#from Ipython.display import clear_output\n",
        "import tensorflow.compat.v2.feature_column as fc\n",
        "from tensorflow.keras.utils import plot_model\n",
        "import pandas as pd\n",
        "import seaborn as sns\n",
        "sns.set_style('white')\n",
        "\n",
        "import numpy as np\n",
        "import scipy as sp\n",
        "from scipy import signal\n",
        "import matplotlib.pyplot as plt\n",
        "\n",
        "import pandas as pd\n",
        "from sklearn.base import BaseEstimator, TransformerMixin\n",
        "from sklearn.preprocessing import StandardScaler\n",
        "from sklearn.pipeline import Pipeline"
      ],
      "execution_count": null,
      "outputs": [
        {
          "output_type": "stream",
          "text": [
            "<module 'tensorflow._api.v2.version' from '/usr/local/lib/python3.6/dist-packages/tensorflow/_api/v2/version/__init__.py'>\n"
          ],
          "name": "stdout"
        },
        {
          "output_type": "stream",
          "text": [
            "/usr/local/lib/python3.6/dist-packages/statsmodels/tools/_testing.py:19: FutureWarning: pandas.util.testing is deprecated. Use the functions in the public API at pandas.testing instead.\n",
            "  import pandas.util.testing as tm\n"
          ],
          "name": "stderr"
        }
      ]
    },
    {
      "cell_type": "code",
      "metadata": {
        "colab": {
          "resources": {
            "http://localhost:8080/nbextensions/google.colab/files.js": {
              "data": "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",
              "ok": true,
              "headers": [
                [
                  "content-type",
                  "application/javascript"
                ]
              ],
              "status": 200,
              "status_text": ""
            }
          },
          "base_uri": "https://localhost:8080/",
          "height": 72
        },
        "id": "SO2CAlgRsvp-",
        "outputId": "3dabfd2d-9c8b-4ca5-a7a5-dfd9d3217014"
      },
      "source": [
        "from google.colab import files\n",
        "uploaded = files.upload() # u can now upload the datasetst"
      ],
      "execution_count": null,
      "outputs": [
        {
          "output_type": "display_data",
          "data": {
            "text/html": [
              "\n",
              "     <input type=\"file\" id=\"files-0e54b943-92a7-4b20-b78c-0fe735e671d9\" name=\"files[]\" multiple disabled\n",
              "        style=\"border:none\" />\n",
              "     <output id=\"result-0e54b943-92a7-4b20-b78c-0fe735e671d9\">\n",
              "      Upload widget is only available when the cell has been executed in the\n",
              "      current browser session. Please rerun this cell to enable.\n",
              "      </output>\n",
              "      <script src=\"/nbextensions/google.colab/files.js\"></script> "
            ],
            "text/plain": [
              "<IPython.core.display.HTML object>"
            ]
          },
          "metadata": {
            "tags": []
          }
        },
        {
          "output_type": "stream",
          "text": [
            "Saving DLR.csv to DLR.csv\n"
          ],
          "name": "stdout"
        }
      ]
    },
    {
      "cell_type": "code",
      "metadata": {
        "colab": {
          "base_uri": "https://localhost:8080/"
        },
        "id": "o-smKQ_MxexB",
        "outputId": "1ef9582e-29f0-4b84-b836-36d57f358d18"
      },
      "source": [
        "import io\n",
        "Train_DLR=pd.read_csv(io.BytesIO(uploaded[\"DLR.csv\"])) \n",
        "Train_DLR.info()"
      ],
      "execution_count": null,
      "outputs": [
        {
          "output_type": "stream",
          "text": [
            "<class 'pandas.core.frame.DataFrame'>\n",
            "RangeIndex: 79334 entries, 0 to 79333\n",
            "Data columns (total 6 columns):\n",
            " #   Column     Non-Null Count  Dtype  \n",
            "---  ------     --------------  -----  \n",
            " 0   awind      73500 non-null  float64\n",
            " 1   swind      73500 non-null  float64\n",
            " 2   direction  73500 non-null  float64\n",
            " 3   tem        73500 non-null  float64\n",
            " 4   rad        73500 non-null  float64\n",
            " 5   amp        73500 non-null  float64\n",
            "dtypes: float64(6)\n",
            "memory usage: 3.6 MB\n"
          ],
          "name": "stdout"
        }
      ]
    },
    {
      "cell_type": "code",
      "metadata": {
        "id": "0DDniQows0CE"
      },
      "source": [
        "scaler = StandardScaler()\n",
        "Train=scaler.fit_transform(Train_DLR[:73500])"
      ],
      "execution_count": null,
      "outputs": []
    },
    {
      "cell_type": "code",
      "metadata": {
        "colab": {
          "base_uri": "https://localhost:8080/"
        },
        "id": "7aZgxbdfeTaC",
        "outputId": "3978174e-0c45-4ff8-c379-ee28efc1a3fb"
      },
      "source": [
        "Train.shape"
      ],
      "execution_count": null,
      "outputs": [
        {
          "output_type": "execute_result",
          "data": {
            "text/plain": [
              "(73500, 6)"
            ]
          },
          "metadata": {
            "tags": []
          },
          "execution_count": 10
        }
      ]
    },
    {
      "cell_type": "code",
      "metadata": {
        "id": "TnnxLc99gCAp"
      },
      "source": [
        "import numpy as np\n",
        "from scipy.interpolate import interp1d,CubicSpline\n",
        "from math import pi,sqrt,sin,cos\n",
        "import warnings\n",
        "import sys\n",
        "\n",
        "\n",
        "\n",
        "# =============================================================================\n",
        "\n",
        "def hamm(n,base):\n",
        "    seq = np.zeros((1,n))\n",
        "    \n",
        "    if 1 < base:\n",
        "        seed = np.arange(1,n+1)\n",
        "        base_inv = 1/base\n",
        "        while any(x!=0 for x in seed):\n",
        "            digit = np.remainder(seed[0:n],base)\n",
        "            seq = seq + digit*base_inv\n",
        "            base_inv = base_inv/base\n",
        "            seed = np.floor (seed/base)\n",
        "    else:\n",
        "        temp = np.arange(1,n+1)\n",
        "        seq = (np.remainder(temp,(-base+1))+0.5)/(-base)\n",
        "        \n",
        "    return(seq)\n",
        "\n",
        "# =============================================================================\n",
        "\n",
        "def zero_crossings(x):\n",
        "    indzer = np.where(x[0:-1]*x[1:]<0)[0]\n",
        "    \n",
        "    if any(x == 0):\n",
        "        iz = np.where(x==0)[0]\n",
        "        if any(np.diff(iz)==1):\n",
        "            zer = x == 0\n",
        "            dz = np.diff([0,zer,0])\n",
        "            debz = np.where(dz == 1)[0]\n",
        "            finz = np.where(dz == -1)[0]-1\n",
        "            indz = np.round((debz+finz)/2)\n",
        "        else:\n",
        "            indz = iz\n",
        "        indzer = np.sort(np.concatenate((indzer,indz)))\n",
        "        \n",
        "    return(indzer)\n",
        "\n",
        "# =============================================================================\n",
        "\n",
        "#defines new extrema points to extend the interpolations at the edges of the\n",
        "#signal (mainly mirror symmetry)\n",
        "def boundary_conditions(indmin,indmax,t,x,z,nbsym):\n",
        "    lx = len(x)-1\n",
        "    end_max = len(indmax)-1\n",
        "    end_min = len(indmin)-1\n",
        "    indmin = indmin.astype(int)\n",
        "    indmax = indmax.astype(int)\n",
        "\n",
        "    if len(indmin) + len(indmax) < 3:\n",
        "        mode = 0\n",
        "        tmin=tmax=zmin=zmax=None\n",
        "        return(tmin,tmax,zmin,zmax,mode)\n",
        "    else:\n",
        "        mode=1 #the projected signal has inadequate extrema\n",
        "    #boundary conditions for interpolations :\n",
        "    if indmax[0] < indmin[0]:\n",
        "        if x[0] > x[indmin[0]]:\n",
        "            lmax = np.flipud(indmax[1:min(end_max+1,nbsym+1)])\n",
        "            lmin = np.flipud(indmin[:min(end_min+1,nbsym)])\n",
        "            lsym = indmax[0]\n",
        "\n",
        "        else:\n",
        "            lmax = np.flipud(indmax[:min(end_max+1,nbsym)])\n",
        "            lmin = np.concatenate((np.flipud(indmin[:min(end_min+1,nbsym-1)]),([0])))\n",
        "            lsym = 0\n",
        "\n",
        "    else:\n",
        "        if x[0] < x[indmax[0]]:\n",
        "            lmax = np.flipud(indmax[:min(end_max+1,nbsym)])\n",
        "            lmin = np.flipud(indmin[1:min(end_min+1,nbsym+1)])\n",
        "            lsym = indmin[0]\n",
        "\n",
        "        else:\n",
        "            lmax = np.concatenate((np.flipud(indmax[:min(end_max+1,nbsym-1)]),([0])))\n",
        "            lmin = np.flipud(indmin[:min(end_min+1,nbsym)])\n",
        "            lsym = 0\n",
        "\n",
        "    if indmax[-1] < indmin[-1]:\n",
        "        if x[-1] < x[indmax[-1]]:\n",
        "            rmax = np.flipud(indmax[max(end_max-nbsym+1,0):])\n",
        "            rmin = np.flipud(indmin[max(end_min-nbsym,0):-1])\n",
        "            rsym = indmin[-1]\n",
        "\n",
        "        else:\n",
        "            rmax = np.concatenate((np.array([lx]),np.flipud(indmax[max(end_max-nbsym+2,0):])))\n",
        "            rmin = np.flipud(indmin[max(end_min-nbsym+1,0):])\n",
        "            rsym = lx\n",
        "\n",
        "    else:\n",
        "        if x[-1] > x[indmin[-1]]:\n",
        "            rmax = np.flipud(indmax[max(end_max-nbsym,0):-1])\n",
        "            rmin = np.flipud(indmin[max(end_min-nbsym+1,0):])\n",
        "            rsym = indmax[-1]\n",
        "\n",
        "        else:\n",
        "            rmax = np.flipud(indmax[max(end_max-nbsym+1,0):])\n",
        "            rmin = np.concatenate((np.array([lx]),np.flipud(indmin[max(end_min-nbsym+2,0):])))\n",
        "            rsym = lx\n",
        "\n",
        "    tlmin = 2*t[lsym]-t[lmin]\n",
        "    tlmax = 2*t[lsym]-t[lmax]\n",
        "    trmin = 2*t[rsym]-t[rmin]\n",
        "    trmax = 2*t[rsym]-t[rmax]\n",
        "\n",
        "    #in case symmetrized parts do not extend enough\n",
        "    if tlmin[0] > t[0] or tlmax[0] > t[0]:\n",
        "        if lsym == indmax[0]:\n",
        "            lmax = np.flipud(indmax[:min(end_max+1,nbsym)])\n",
        "        else:\n",
        "            lmin = np.flipud(indmin[:min(end_min+1,nbsym)])\n",
        "        if lsym == 1:\n",
        "            sys.exit('bug')\n",
        "        lsym = 0\n",
        "        tlmin = 2*t[lsym]-t[lmin]\n",
        "        tlmax = 2*t[lsym]-t[lmax]\n",
        "        \n",
        "    if trmin[-1] < t[lx] or trmax[-1] < t[lx]:\n",
        "        if rsym == indmax[-1]:\n",
        "            rmax = np.flipud(indmax[max(end_max-nbsym+1,0):])\n",
        "        else:\n",
        "            rmin = np.flipud(indmin[max(end_min-nbsym+1,0):])\n",
        "        if rsym == lx:\n",
        "            sys.exit('bug')\n",
        "        rsym = lx\n",
        "        trmin = 2*t[rsym]-t[rmin]\n",
        "        trmax = 2*t[rsym]-t[rmax]\n",
        "\n",
        "    zlmax =z[lmax,:]\n",
        "    zlmin =z[lmin,:]\n",
        "    zrmax =z[rmax,:]\n",
        "    zrmin =z[rmin,:]\n",
        "\n",
        "    tmin = np.hstack((tlmin,t[indmin],trmin))\n",
        "    tmax = np.hstack((tlmax,t[indmax],trmax))\n",
        "    zmin = np.vstack((zlmin,z[indmin,:],zrmin))\n",
        "    zmax = np.vstack((zlmax,z[indmax,:],zrmax))\n",
        "\n",
        "    return(tmin,tmax,zmin,zmax,mode)\n",
        "\n",
        "# =============================================================================\n",
        "\n",
        "# computes the mean of the envelopes and the mode amplitude estimate\n",
        "def envelope_mean(m,t,seq,ndir,N,N_dim): #new\n",
        "\n",
        "    NBSYM = 2\n",
        "    count = 0\n",
        "\n",
        "    env_mean=np.zeros((len(t),N_dim))\n",
        "    amp = np.zeros((len(t)))\n",
        "    nem = np.zeros((ndir))\n",
        "    nzm = np.zeros((ndir))\n",
        "    \n",
        "    dir_vec = np.zeros((N_dim,1))\n",
        "    for it in range(0,ndir):\n",
        "        if N_dim !=3:     # Multivariate signal (for N_dim ~=3) with hammersley sequence\n",
        "            #Linear normalisation of hammersley sequence in the range of -1.00 - 1.00\n",
        "            b=2*seq[it,:]-1 \n",
        "            \n",
        "            # Find angles corresponding to the normalised sequence\n",
        "            tht = np.arctan2(np.sqrt(np.flipud(np.cumsum(b[:0:-1]**2)))\\\n",
        "                             ,b[:N_dim-1]).transpose()\n",
        "            \n",
        "            # Find coordinates of unit direction vectors on n-sphere\n",
        "            dir_vec[:,0] = np.cumprod(np.concatenate(([1],np.sin(tht))))\n",
        "            dir_vec[:N_dim-1,0] =  np.cos(tht)*dir_vec[:N_dim-1,0]\n",
        "            \n",
        "        else:     # Trivariate signal with hammersley sequence\n",
        "            # Linear normalisation of hammersley sequence in the range of -1.0 - 1.0\n",
        "            tt = 2*seq[it,0]-1\n",
        "            if tt>1:\n",
        "                tt=1\n",
        "            elif tt<-1:\n",
        "                tt=-1         \n",
        "            \n",
        "            # Normalize angle from 0 - 2*pi\n",
        "            phirad = seq[it,1]*2*pi\n",
        "            st = sqrt(1.0-tt*tt)\n",
        "            \n",
        "            dir_vec[0]=st*cos(phirad)\n",
        "            dir_vec[1]=st*sin(phirad)\n",
        "            dir_vec[2]=tt\n",
        "           \n",
        "        # Projection of input signal on nth (out of total ndir) direction vectors\n",
        "        y  = np.dot(m,dir_vec)\n",
        "\n",
        "        # Calculates the extrema of the projected signal\n",
        "        indmin,indmax = local_peaks(y)      \n",
        "\n",
        "        nem[it] = len(indmin) + len(indmax)\n",
        "        indzer = zero_crossings(y)\n",
        "        nzm[it] = len(indzer)\n",
        "\n",
        "        tmin,tmax,zmin,zmax,mode = boundary_conditions(indmin,indmax,t,y,m,NBSYM)\n",
        "        \n",
        "        # Calculate multidimensional envelopes using spline interpolation\n",
        "        # Only done if number of extrema of the projected signal exceed 3\n",
        "        if mode:\n",
        "            fmin = CubicSpline(tmin,zmin,bc_type='not-a-knot')\n",
        "            env_min = fmin(t)\n",
        "            fmax = CubicSpline(tmax,zmax,bc_type='not-a-knot')\n",
        "            env_max = fmax(t)\n",
        "            amp = amp + np.sqrt(np.sum(np.power(env_max-env_min,2),axis=1))/2\n",
        "            env_mean = env_mean + (env_max+env_min)/2\n",
        "        else:     # if the projected signal has inadequate extrema\n",
        "            count=count+1\n",
        "            \n",
        "    if ndir>count:\n",
        "        env_mean = env_mean/(ndir-count)\n",
        "        amp = amp/(ndir-count)\n",
        "    else:\n",
        "        env_mean = np.zeros((N,N_dim))\n",
        "        amp = np.zeros((N))\n",
        "        nem = np.zeros((ndir))\n",
        "        \n",
        "    return(env_mean,nem,nzm,amp)\n",
        "\n",
        "# =============================================================================\n",
        "\n",
        "#Stopping criterion\n",
        "def stop(m,t,sd,sd2,tol,seq,ndir,N,N_dim):\n",
        "    try:\n",
        "        env_mean,nem,nzm,amp = envelope_mean(m,t,seq,ndir,N,N_dim)\n",
        "        sx = np.sqrt(np.sum(np.power(env_mean,2),axis=1))\n",
        "        \n",
        "        if all(amp):     # something is wrong here\n",
        "            sx = sx/amp\n",
        "            \n",
        "        if ((np.mean(sx > sd) > tol or any(sx > sd2)) and any(nem > 2)) == False:\n",
        "            stp = 1\n",
        "        else:\n",
        "            stp = 0\n",
        "    except:\n",
        "        env_mean = np.zeros((N,N_dim))\n",
        "        stp = 1\n",
        "        \n",
        "    return(stp,env_mean)\n",
        "    \n",
        "# =============================================================================\n",
        "    \n",
        "def fix(m,t,seq,ndir,stp_cnt,counter,N,N_dim):\n",
        "    try:\n",
        "        env_mean,nem,nzm,amp = envelope_mean(m,t,seq,ndir,N,N_dim)\n",
        "        \n",
        "        if all(np.abs(nzm-nem)>1):\n",
        "            stp = 0\n",
        "            counter = 0\n",
        "        else:\n",
        "            counter = counter+1\n",
        "            stp = (counter >= stp_cnt)\n",
        "    except:\n",
        "        env_mean = np.zeros((N,N_dim))\n",
        "        stp = 1\n",
        "        \n",
        "    return(stp,env_mean,counter)\n",
        "\n",
        "# =============================================================================\n",
        "\n",
        "def peaks(X):\n",
        "    dX = np.sign(np.diff(X.transpose())).transpose()\n",
        "    locs_max = np.where(np.logical_and(dX[:-1] >0,dX[1:] <0))[0]+1\n",
        "    pks_max = X[locs_max]\n",
        "    \n",
        "    return(pks_max,locs_max)\n",
        "\n",
        "# =============================================================================\n",
        "\n",
        "def local_peaks(x):\n",
        "    if all(x < 1e-5):\n",
        "        x=np.zeros((1,len(x)))\n",
        "\n",
        "    m = len(x)-1\n",
        "    \n",
        "    # Calculates the extrema of the projected signal\n",
        "    # Difference between subsequent elements:\n",
        "    dy = np.diff(x.transpose()).transpose()\n",
        "    a = np.where(dy!=0)[0]\n",
        "    lm = np.where(np.diff(a)!=1)[0] + 1\n",
        "    d = a[lm] - a[lm-1] \n",
        "    a[lm] = a[lm] - np.floor(d/2)\n",
        "    a = np.insert(a,len(a),m)\n",
        "    ya  = x[a]\n",
        "    \n",
        "    if len(ya) > 1:\n",
        "        # Maxima\n",
        "        pks_max,loc_max=peaks(ya)\n",
        "        # Minima\n",
        "        pks_min,loc_min=peaks(-ya)\n",
        "        \n",
        "        if len(pks_min)>0:\n",
        "            indmin = a[loc_min]\n",
        "        else:\n",
        "            indmin = np.asarray([])\n",
        "            \n",
        "        if len(pks_max)>0:\n",
        "            indmax = a[loc_max]\n",
        "        else:\n",
        "            indmax = np.asarray([])\n",
        "    else:\n",
        "        indmin=np.array([])\n",
        "        indmax=np.array([])\n",
        "        \n",
        "    return(indmin, indmax)\n",
        "\n",
        "# =============================================================================\n",
        "\n",
        "def stop_emd(r,seq,ndir,N_dim):\n",
        "    ner = np.zeros((ndir,1))\n",
        "    dir_vec = np.zeros((N_dim,1))\n",
        "    \n",
        "    for it in range(0,ndir):\n",
        "        if N_dim != 3: # Multivariate signal (for N_dim ~=3) with hammersley sequence\n",
        "            # Linear normalisation of hammersley sequence in the range of -1.00 - 1.00\n",
        "            b=2*seq[it,:]-1\n",
        "            \n",
        "            # Find angles corresponding to the normalised sequence\n",
        "            tht = np.arctan2(np.sqrt(np.flipud(np.cumsum(b[:0:-1]**2)))\\\n",
        "                             ,b[:N_dim-1]).transpose()\n",
        "            \n",
        "            # Find coordinates of unit direction vectors on n-sphere\n",
        "            dir_vec[:,0] = np.cumprod(np.concatenate(([1],np.sin(tht))))\n",
        "            dir_vec[:N_dim-1,0] =  np.cos(tht)*dir_vec[:N_dim-1,0]\n",
        "    \n",
        "        else: # Trivariate signal with hammersley sequence\n",
        "            # Linear normalisation of hammersley sequence in the range of -1.0 - 1.0\n",
        "            tt = 2*seq[it,0]-1\n",
        "            if tt>1:\n",
        "                tt=1\n",
        "            elif tt<-1:\n",
        "                tt=-1  \n",
        "            \n",
        "            # Normalize angle from 0 - 2*pi\n",
        "            phirad = seq[it,1]*2*pi\n",
        "            st = sqrt(1.0-tt*tt)\n",
        "            \n",
        "            dir_vec[0]=st*cos(phirad)\n",
        "            dir_vec[1]=st*sin(phirad)\n",
        "            dir_vec[2]=tt\n",
        "        # Projection of input signal on nth (out of total ndir) direction\n",
        "        # vectors\n",
        "        y = np.dot(r,dir_vec)\n",
        "\n",
        "        # Calculates the extrema of the projected signal\n",
        "        indmin, indmax = local_peaks(y)\n",
        "\n",
        "        ner[it] = len(indmin) + len(indmax)\n",
        "    \n",
        "    # Stops if the all projected signals have less than 3 extrema\n",
        "    stp = all(ner<3)\n",
        "    \n",
        "    return (stp)\n",
        "\n",
        "# =============================================================================\n",
        "\n",
        "def is_prime(x):\n",
        "    if x == 2:\n",
        "        return True\n",
        "    else:\n",
        "        for number in range (3,x): \n",
        "            if x % number == 0 or x % 2 == 0:\n",
        "         #print number\n",
        "                return (False)\n",
        "            \n",
        "# =============================================================================\n",
        "                \n",
        "        return (True)\n",
        "def nth_prime(n):\n",
        "    lst = [2]\n",
        "    for i in range(3,104745):\n",
        "        if is_prime(i) == True:\n",
        "            lst.append(i)\n",
        "            if len(lst) == n:\n",
        "                return (lst)\n",
        "# =============================================================================\n",
        "\n",
        "def set_value(*args):\n",
        "    args = args[0]\n",
        "    narg = len(args)\n",
        "    q = args[0]\n",
        "    \n",
        "    ndir=stp_cnt=MAXITERATIONS=sd=sd2=tol = None\n",
        "    stp_crit,stp_vec,base = [],[],[]\n",
        "                                          \n",
        "    if narg == 0:\n",
        "        sys.exit('Not enough input arguments.')\n",
        "    elif narg > 4:\n",
        "        sys.exit('Too many input arguments.')\n",
        "    elif narg == 1:\n",
        "        ndir = 64     # default\n",
        "        stp_crit = 'stop'     # default\n",
        "        stp_vec = np.array([0.075,0.75,0.075])     # default\n",
        "        sd,sd2,tol = stp_vec[0],stp_vec[1],stp_vec[2]        \n",
        "    elif narg == 2:\n",
        "        ndir = args[1]\n",
        "        stp_crit = 'stop'     # default\n",
        "        stp_vec = np.array([0.075,0.75,0.075])     # default\n",
        "        sd,sd2,tol = stp_vec[0],stp_vec[1],stp_vec[2]\n",
        "    elif narg == 3:\n",
        "        if args[1] != None:\n",
        "            ndir = args[1]\n",
        "        else:\n",
        "            ndir = 64     # default\n",
        "        stp_crit = args[2]\n",
        "        if stp_crit == 'stop':\n",
        "            stp_vec = np.array([0.075,0.75,0.075])     # default\n",
        "            sd,sd2,tol = stp_vec[0],stp_vec[1],stp_vec[2]\n",
        "        elif stp_crit == 'fix_h':\n",
        "            stp_cnt = 2     # default\n",
        "    elif narg == 4:\n",
        "        if args[1] != None:\n",
        "            ndir = args[1]\n",
        "        else:\n",
        "            ndir = 64     # default        \n",
        "        stp_crit = args[2]        \n",
        "        if args[2] == 'stop':\n",
        "            stp_vec = args[3]\n",
        "            sd,sd2,tol = stp_vec[0],stp_vec[1],stp_vec[2]\n",
        "        elif args[2] == 'fix_h':\n",
        "            stp_cnt = args[3]\n",
        "\n",
        "    # Rescale input signal if required\n",
        "    if len(q) == 0:                                                            # Doesn't do the same as the Matlab script\n",
        "        sys.exit('emptyDataSet. Data set cannot be empty.')\n",
        "    if np.shape(q)[0] < np.shape(q)[1]:\n",
        "        q=q.transpose()\n",
        "        \n",
        "    # Dimension of input signal\n",
        "    N_dim = np.shape(q)[1]\n",
        "    if N_dim < 3:\n",
        "        sys.exit('Function only processes the signal having more than 3.')\n",
        "        \n",
        "    # Length of input signal\n",
        "    N = np.shape(q)[0]\n",
        "\n",
        "    # Check validity of Input parameters                                       #  Doesn't do the same as the Matlab script\n",
        "    if not isinstance(ndir,int) or ndir < 6:\n",
        "        sys.exit('invalid num_dir. num_dir should be an integer greater than or equal to 6.')\n",
        "    if not isinstance(stp_crit, str) or (stp_crit != 'stop' and stp_crit != 'fix_h'):\n",
        "        sys.exit('invalid stop_criteria. stop_criteria should be either fix_h or stop')\n",
        "    if not isinstance(stp_vec,(list, tuple, np.ndarray)) or any(x for x in stp_vec if not isinstance(x,(int, float, complex))):\n",
        "        sys.exit('invalid stop_vector. stop_vector should be a list with three elements e.g. default is [0.75,0.75,0.75]')\n",
        "    if stp_cnt != None:\n",
        "        if not isinstance(stp_cnt,int) or stp_cnt < 0:\n",
        "            sys.exit('invalid stop_count. stop_count should be a nonnegative integer.')\n",
        "\n",
        "    # Initializations for Hammersley function\n",
        "    base.append(-ndir)\n",
        "    \n",
        "    # Find the pointset for the given input signal\n",
        "    if N_dim==3:\n",
        "        base.append(2)\n",
        "        seq = np.zeros((ndir,N_dim-1))\n",
        "        for it in range(0,N_dim-1):\n",
        "            seq[:,it] = hamm(ndir,base[it])\n",
        "    else:\n",
        "        #Prime numbers for Hammersley sequence\n",
        "        prm = nth_prime(N_dim-1)\n",
        "        for itr in range(1,N_dim):\n",
        "            base.append(prm[itr-1])\n",
        "        seq = np.zeros((ndir,N_dim))\n",
        "        for it in range(0,N_dim):\n",
        "            seq[:,it] = hamm(ndir,base[it])\n",
        "    # Define t\n",
        "    t = np.arange(1,N+1)\n",
        "    #Counter\n",
        "    nbit = 0\n",
        "    MAXITERATIONS = 1000     #default    \n",
        "    \n",
        "    return(q,seq,t,ndir,N_dim,N,sd,sd2,tol,nbit,MAXITERATIONS,stp_crit,stp_cnt)\n",
        "    \n",
        "# =============================================================================\n",
        "    \n",
        "def memd(*args):\n",
        "    x,seq,t,ndir,N_dim,N,sd,sd2,tol,nbit,MAXITERATIONS,stop_crit,stp_cnt = set_value(args)\n",
        "\n",
        "    r=x\n",
        "    n_imf=1\n",
        "    q = []\n",
        "\n",
        "    while stop_emd(r,seq,ndir,N_dim) == False:\n",
        "        # current mode\n",
        "        m = r\n",
        "        \n",
        "        # computation of mean and stopping criterion\n",
        "        if stop_crit == 'stop':\n",
        "            stop_sift,env_mean = stop(m,t,sd,sd2,tol,seq,ndir,N,N_dim)\n",
        "        else:\n",
        "            counter=0\n",
        "            stop_sift,env_mean,counter = fix(m,t,seq,ndir,stp_cnt,counter,N,N_dim)\n",
        "            \n",
        "        # In case the current mode is so small that machine precision can cause\n",
        "        # spurious extrema to appear\n",
        "        if np.max(np.abs(m)) < (1e-10)*(np.max(np.abs(x))):\n",
        "            if stop_sift == False:\n",
        "                warnings.warn('emd:warning','forced stop of EMD : too small amplitude')\n",
        "            else:\n",
        "                print('forced stop of EMD : too small amplitude')\n",
        "            break\n",
        "        \n",
        "        # sifting loop\n",
        "        while stop_sift == False and nbit < MAXITERATIONS:\n",
        "            # sifting\n",
        "            m = m - env_mean\n",
        "            \n",
        "            # computation of mean and stopping criterion\n",
        "            if stop_crit =='stop':\n",
        "                stop_sift,env_mean = stop(m,t,sd,sd2,tol,seq,ndir,N,N_dim)\n",
        "            else:\n",
        "                stop_sift,env_mean,counter = fix(m,t,seq,ndir,stp_cnt,counter,N,N_dim)\n",
        "        \n",
        "            nbit=nbit+1\n",
        "            \n",
        "            if nbit == (MAXITERATIONS-1) and  nbit > 100:\n",
        "                warnings.wanr('emd:warning','forced stop of sifting : too many erations')\n",
        "            \n",
        "        q.append(m.transpose())\n",
        "        \n",
        "        n_imf = n_imf+1\n",
        "        r = r - m\n",
        "        nbit = 0\n",
        "        \n",
        "    # Stores the residue\n",
        "    q.append(r.transpose())\n",
        "    q = np.asarray(q)\n",
        "    #sprintf('Elapsed time: %f\\n',toc);\n",
        "\n",
        "    return(q)"
      ],
      "execution_count": null,
      "outputs": []
    },
    {
      "cell_type": "code",
      "metadata": {
        "id": "LjWQKSvAfr5W"
      },
      "source": [
        "imf = memd(Train)"
      ],
      "execution_count": null,
      "outputs": []
    },
    {
      "cell_type": "code",
      "metadata": {
        "id": "PQgal65JaZ7F"
      },
      "source": [
        "imf1 = np.transpose(imf[0,:,:])\n",
        "imf2 = np.transpose(imf[1,:,:])\n",
        "imf3 = np.transpose(imf[2,:,:])\n",
        "imf4 = np.transpose(imf[3,:,:])\n",
        "imf5 = np.transpose(imf[4,:,:])\n",
        "imf6 = np.transpose(imf[5,:,:])\n",
        "imf7 = np.transpose(imf[6,:,:])\n",
        "imf8 = np.transpose(imf[7,:,:])\n",
        "imf9 = np.transpose(imf[8,:,:])\n",
        "imf10 = np.transpose(imf[9,:,:])\n",
        "imf11= np.transpose(imf[10,:,:])\n",
        "imf12= np.transpose(imf[11,:,:])\n",
        "imf13 = np.transpose(imf[12,:,:])\n",
        "imf14 = np.transpose(imf[13,:,:])\n",
        "imf15 = np.transpose(imf[14,:,:])\n",
        "imf16 = np.transpose(imf[15,:,:])\n",
        "imf17 = np.transpose(imf[16,:,:])\n",
        "imf18 = np.transpose(imf[17,:,:])\n",
        "imf19 = np.transpose(imf[18,:,:])"
      ],
      "execution_count": null,
      "outputs": []
    },
    {
      "cell_type": "code",
      "metadata": {
        "colab": {
          "base_uri": "https://localhost:8080/"
        },
        "id": "ANdsYHTPG5Ed",
        "outputId": "ae1e2ccc-4be1-4598-cc2d-a44612717e67"
      },
      "source": [
        "imf1[:58800,:5].shape"
      ],
      "execution_count": null,
      "outputs": [
        {
          "output_type": "execute_result",
          "data": {
            "text/plain": [
              "(58800, 5)"
            ]
          },
          "metadata": {
            "tags": []
          },
          "execution_count": 13
        }
      ]
    },
    {
      "cell_type": "code",
      "metadata": {
        "colab": {
          "base_uri": "https://localhost:8080/"
        },
        "id": "QjERQldZvDMU",
        "outputId": "dc8ec11d-da45-46f5-c8eb-8636d98c97b8"
      },
      "source": [
        "from sklearn.ensemble import BaggingRegressor\n",
        "from xgboost import XGBRegressor\n",
        "from sklearn.metrics import mean_squared_error\n",
        "\n",
        "x_train_imf1, y_train_imf1, x_test_imf1, y_test_imf1 =  imf1[:58800,:5] , imf1[:58800,5:], imf1[58800:,:5] , imf1[58800:,5:]\n",
        "bag_imf1 = BaggingRegressor(\n",
        " XGBRegressor(), n_estimators=600,\n",
        " max_samples=6000, bootstrap=True, n_jobs=-1, oob_score=True)\n",
        "bag_imf1.fit(x_train_imf1, y_train_imf1)\n",
        "y_pred_imf1 = bag_imf1.predict(x_test_imf1)\n",
        "\n",
        "print(bag_imf1.oob_score_)\n",
        "print(mean_squared_error(y_pred_imf1, y_test_imf1))"
      ],
      "execution_count": null,
      "outputs": [
        {
          "output_type": "stream",
          "text": [
            "0.00934758781100642\n",
            "0.2634685207982764\n"
          ],
          "name": "stdout"
        }
      ]
    },
    {
      "cell_type": "code",
      "metadata": {
        "colab": {
          "base_uri": "https://localhost:8080/",
          "height": 17
        },
        "id": "e5xvc24mr814",
        "outputId": "41cd3af3-aa9d-470a-a75a-8105a8aad4ed"
      },
      "source": [
        "df = pd.DataFrame(y_pred_imf2)\n",
        "df.to_csv('y_pred_imf1.csv', index = False, header=False)\n",
        "\n",
        "from google.colab import files\n",
        "files.download(\"y_pred_imf1.csv\")\n",
        "\n",
        "df = pd.DataFrame(y_pred_imf1)\n",
        "df.to_csv('y_test_imf1.csv', index = False, header=False)\n",
        "\n",
        "from google.colab import files\n",
        "files.download(\"y_test_imf1.csv\")"
      ],
      "execution_count": null,
      "outputs": [
        {
          "output_type": "display_data",
          "data": {
            "application/javascript": [
              "\n",
              "    async function download(id, filename, size) {\n",
              "      if (!google.colab.kernel.accessAllowed) {\n",
              "        return;\n",
              "      }\n",
              "      const div = document.createElement('div');\n",
              "      const label = document.createElement('label');\n",
              "      label.textContent = `Downloading \"${filename}\": `;\n",
              "      div.appendChild(label);\n",
              "      const progress = document.createElement('progress');\n",
              "      progress.max = size;\n",
              "      div.appendChild(progress);\n",
              "      document.body.appendChild(div);\n",
              "\n",
              "      const buffers = [];\n",
              "      let downloaded = 0;\n",
              "\n",
              "      const channel = await google.colab.kernel.comms.open(id);\n",
              "      // Send a message to notify the kernel that we're ready.\n",
              "      channel.send({})\n",
              "\n",
              "      for await (const message of channel.messages) {\n",
              "        // Send a message to notify the kernel that we're ready.\n",
              "        channel.send({})\n",
              "        if (message.buffers) {\n",
              "          for (const buffer of message.buffers) {\n",
              "            buffers.push(buffer);\n",
              "            downloaded += buffer.byteLength;\n",
              "            progress.value = downloaded;\n",
              "          }\n",
              "        }\n",
              "      }\n",
              "      const blob = new Blob(buffers, {type: 'application/binary'});\n",
              "      const a = document.createElement('a');\n",
              "      a.href = window.URL.createObjectURL(blob);\n",
              "      a.download = filename;\n",
              "      div.appendChild(a);\n",
              "      a.click();\n",
              "      div.remove();\n",
              "    }\n",
              "  "
            ],
            "text/plain": [
              "<IPython.core.display.Javascript object>"
            ]
          },
          "metadata": {
            "tags": []
          }
        },
        {
          "output_type": "display_data",
          "data": {
            "application/javascript": [
              "download(\"download_76d0bfd0-9069-430f-b930-530efccaa480\", \"y_pred_imf2.csv\", 182371)"
            ],
            "text/plain": [
              "<IPython.core.display.Javascript object>"
            ]
          },
          "metadata": {
            "tags": []
          }
        },
        {
          "output_type": "display_data",
          "data": {
            "application/javascript": [
              "\n",
              "    async function download(id, filename, size) {\n",
              "      if (!google.colab.kernel.accessAllowed) {\n",
              "        return;\n",
              "      }\n",
              "      const div = document.createElement('div');\n",
              "      const label = document.createElement('label');\n",
              "      label.textContent = `Downloading \"${filename}\": `;\n",
              "      div.appendChild(label);\n",
              "      const progress = document.createElement('progress');\n",
              "      progress.max = size;\n",
              "      div.appendChild(progress);\n",
              "      document.body.appendChild(div);\n",
              "\n",
              "      const buffers = [];\n",
              "      let downloaded = 0;\n",
              "\n",
              "      const channel = await google.colab.kernel.comms.open(id);\n",
              "      // Send a message to notify the kernel that we're ready.\n",
              "      channel.send({})\n",
              "\n",
              "      for await (const message of channel.messages) {\n",
              "        // Send a message to notify the kernel that we're ready.\n",
              "        channel.send({})\n",
              "        if (message.buffers) {\n",
              "          for (const buffer of message.buffers) {\n",
              "            buffers.push(buffer);\n",
              "            downloaded += buffer.byteLength;\n",
              "            progress.value = downloaded;\n",
              "          }\n",
              "        }\n",
              "      }\n",
              "      const blob = new Blob(buffers, {type: 'application/binary'});\n",
              "      const a = document.createElement('a');\n",
              "      a.href = window.URL.createObjectURL(blob);\n",
              "      a.download = filename;\n",
              "      div.appendChild(a);\n",
              "      a.click();\n",
              "      div.remove();\n",
              "    }\n",
              "  "
            ],
            "text/plain": [
              "<IPython.core.display.Javascript object>"
            ]
          },
          "metadata": {
            "tags": []
          }
        },
        {
          "output_type": "display_data",
          "data": {
            "application/javascript": [
              "download(\"download_cb6cb57d-605d-45aa-bbf3-f4f552c360d7\", \"y_test_imf2.csv\", 180344)"
            ],
            "text/plain": [
              "<IPython.core.display.Javascript object>"
            ]
          },
          "metadata": {
            "tags": []
          }
        }
      ]
    },
    {
      "cell_type": "code",
      "metadata": {
        "colab": {
          "base_uri": "https://localhost:8080/",
          "height": 718
        },
        "id": "vaQP8Y_jt5Pc",
        "outputId": "a5f5b9c8-ce07-4374-fc57-db8e0432f841"
      },
      "source": [
        "plot_IMFS(imf_direction)"
      ],
      "execution_count": null,
      "outputs": [
        {
          "output_type": "display_data",
          "data": {
            "image/png": "[encoded data removed]",
            "text/plain": [
              "<Figure size 864x864 with 7 Axes>"
            ]
          },
          "metadata": {
            "tags": []
          }
        }
      ]
    },
    {
      "cell_type": "code",
      "metadata": {
        "id": "zthndxlwR15M"
      },
      "source": [],
      "execution_count": null,
      "outputs": []
    }
  ]
}